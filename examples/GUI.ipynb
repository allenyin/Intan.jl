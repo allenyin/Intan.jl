{
 "cells": [
  {
   "cell_type": "markdown",
   "metadata": {},
   "source": [
    "# Intan GUI\n",
    "\n",
    "This notebook will demonstrate the functionality of the Intan.jl GUI. We hope that this will eventually encompass 1) data acquisition, 2) visualization, 3) automatic and manual spike sorting, and 4) experimental control."
   ]
  },
  {
   "cell_type": "markdown",
   "metadata": {},
   "source": [
    "Assumes the intan files are in \n",
    "`~/.julia/v<dist>/Intan` \n",
    "directiory, where `<dist>` is the distribution of Julia you are running. Note that the Kernel version of the notebook must also match `<dist>`."
   ]
  },
  {
   "cell_type": "code",
   "execution_count": 9,
   "metadata": {
    "collapsed": false
   },
   "outputs": [],
   "source": [
    "using Intan"
   ]
  },
  {
   "cell_type": "code",
   "execution_count": 10,
   "metadata": {
    "collapsed": false
   },
   "outputs": [
    {
     "data": {
      "text/plain": [
       "\"/home/allenyin/.julia/v0.5/Intan\""
      ]
     },
     "execution_count": 10,
     "metadata": {},
     "output_type": "execute_result"
    }
   ],
   "source": [
    "filePath = \"/home/allenyin/.julia/v0.5/Intan\""
   ]
  },
  {
   "cell_type": "code",
   "execution_count": 11,
   "metadata": {
    "collapsed": false
   },
   "outputs": [
    {
     "data": {
      "text/plain": [
       "Intan.Debug(true,\"qq\",[110.211,80.2977,53.0749,35.9288,18.9067,-3.60183,-18.4581,-15.7408,-9.86663,-10.2511  …  -58.0117,-50.849,-61.3276,-84.6113,-106.605,-118.246,-142.128,-192.599,-246.672,-274.668],1,239616)"
      ]
     },
     "execution_count": 11,
     "metadata": {},
     "output_type": "execute_result"
    }
   ],
   "source": [
    "# First create amplifier array\n",
    "myamp=RHD2164(\"PortA1\")\n",
    "\n",
    "# Configure and create fpga\n",
    "fpga_id=1\n",
    "myfpga=FPGA(fpga_id, myamp)\n",
    "\n",
    "# Setup debug\n",
    "testFile = filePath * \"/test/data/qq.mat\"\n",
    "d = Debug(testFile, \"qq\")\n"
   ]
  },
  {
   "cell_type": "code",
   "execution_count": 12,
   "metadata": {
    "collapsed": false
   },
   "outputs": [
    {
     "data": {
      "text/plain": [
       "Intan.SaveNone(\"./2016-10-03T21:57:45.586/ts.bin\",\"./2016-10-03T21:57:45.586/adc.bin\",\"./2016-10-03T21:57:45.586/ttl.bin\",\"./2016-10-03T21:57:45.586\")"
      ]
     },
     "execution_count": 12,
     "metadata": {},
     "output_type": "execute_result"
    }
   ],
   "source": [
    "# Task\n",
    "mt=Task_NoTask()\n",
    "\n",
    "# File saving options\n",
    "mys=SaveNone()"
   ]
  },
  {
   "cell_type": "code",
   "execution_count": 13,
   "metadata": {
    "collapsed": false
   },
   "outputs": [
    {
     "name": "stderr",
     "output_type": "stream",
     "text": [
      "WARNING: Method definition make_rhd(Array{Intan.FPGA, 1}, Array{Int16, 2}, Array{Float64, 1}, Array{SpikeSorting.Sorting_1, 1}, Array{SpikeSorting.Spike, 2}, Array{UInt16, 1}, Intan.Debug, Intan.Task_NoTask, Intan.SaveNone, Array{DSP.Filters.DF2TFilter{DSP.Filters.SecondOrderSections{Float64, Float64}, Array{Float64, 2}}, 1}, Array{UInt32, 2}) in module Intan at /home/allenyin/.julia/v0.5/Intan/src/types.jl:130 overwritten at /home/allenyin/.julia/v0.5/Intan/src/types.jl:130.\n"
     ]
    },
    {
     "data": {
      "text/plain": [
       "Intan.RHD2002(Intan.FPGA[Intan.FPGA(1,Ptr{Void} @0x0000000000000001,Ptr{Void} @0x0000000000000001,0,30000,0,[0 0 … 0 0],UInt8[0x00,0x00,0x00,0x00,0x00,0x00,0x00,0x00,0x00,0x00  …  0x00,0x00,0x00,0x00,0x00,0x00,0x00,0x00,0x00,0x00],0,0,[0,8],UInt16[0x0000 0x0000 … 0x0000 0x0000; 0x0000 0x0000 … 0x0000 0x0000; … ; 0x0000 0x0000 … 0x0000 0x0000; 0x0000 0x0000 … 0x0000 0x0000],UInt16[0x0000,0x0000,0x0000,0x0000,0x0000,0x0000,0x0000,0x0000,0x0000,0x0000  …  0x0000,0x0000,0x0000,0x0000,0x0000,0x0000,0x0000,0x0000,0x0000,0x0000],UInt16[0x0000,0x0000,0x0000,0x0000,0x0000,0x0000,0x0000,0x0000,0x0000,0x0000  …  0x0000,0x0000,0x0000,0x0000,0x0000,0x0000,0x0000,0x0000,0x0000,0x0000],0x0000,false)],Int16[0 0 … 0 0; 0 0 … 0 0; … ; 0 0 … 0 0; 0 0 … 0 0],[0.0,0.0,0.0,0.0,0.0,0.0,0.0,0.0,0.0,0.0  …  0.0,0.0,0.0,0.0,0.0,0.0,0.0,0.0,0.0,0.0],SpikeSorting.Sorting_1[SpikeSorting.Sorting_1(SpikeSorting.DetectNeg(),SpikeSorting.ClusterWindow(Array{SpikeSorting.mywin,1}[],UInt8[]),SpikeSorting.AlignMin(),SpikeSorting.FeatureTime(),SpikeSorting.ReductionNone(),SpikeSorting.ThresholdMeanN(-8.18941,716289,-8.18941,1.51962e10,1.51962e10,-5.86598e6,3.0),1,Int16[0,0,0,0,0,0,0,0,0,0  …  0,0,0,0,0,0,0,0,0,0],0,Int16[0,0,0,0,0,0,0,0,0,0  …  0,0,0,0,0,0,0,0,0,0],Int16[0,0,0,0,0,0,0,0,0,0  …  0,0,0,0,0,0,0,0,0,0],Int16[0,0,0,0,0,0,0,0,0,0  …  0,0,0,0,0,0,0,0,0,0],Int16[1,2,3,4,5,6,7,8,9,10  …  39,40,41,42,43,44,45,46,47,48],1.0,1,SpikeSorting.s_sizes(48,72,24)),SpikeSorting.Sorting_1(SpikeSorting.DetectNeg(),SpikeSorting.ClusterWindow(Array{SpikeSorting.mywin,1}[],UInt8[]),SpikeSorting.AlignMin(),SpikeSorting.FeatureTime(),SpikeSorting.ReductionNone(),SpikeSorting.ThresholdMeanN(-8.18941,716289,-8.18941,1.51962e10,1.51962e10,-5.86598e6,3.0),2,Int16[0,0,0,0,0,0,0,0,0,0  …  0,0,0,0,0,0,0,0,0,0],0,Int16[0,0,0,0,0,0,0,0,0,0  …  0,0,0,0,0,0,0,0,0,0],Int16[0,0,0,0,0,0,0,0,0,0  …  0,0,0,0,0,0,0,0,0,0],Int16[0,0,0,0,0,0,0,0,0,0  …  0,0,0,0,0,0,0,0,0,0],Int16[1,2,3,4,5,6,7,8,9,10  …  39,40,41,42,43,44,45,46,47,48],1.0,1,SpikeSorting.s_sizes(48,72,24)),SpikeSorting.Sorting_1(SpikeSorting.DetectNeg(),SpikeSorting.ClusterWindow(Array{SpikeSorting.mywin,1}[],UInt8[]),SpikeSorting.AlignMin(),SpikeSorting.FeatureTime(),SpikeSorting.ReductionNone(),SpikeSorting.ThresholdMeanN(-8.18941,716289,-8.18941,1.51962e10,1.51962e10,-5.86598e6,3.0),3,Int16[0,0,0,0,0,0,0,0,0,0  …  0,0,0,0,0,0,0,0,0,0],0,Int16[0,0,0,0,0,0,0,0,0,0  …  0,0,0,0,0,0,0,0,0,0],Int16[0,0,0,0,0,0,0,0,0,0  …  0,0,0,0,0,0,0,0,0,0],Int16[0,0,0,0,0,0,0,0,0,0  …  0,0,0,0,0,0,0,0,0,0],Int16[1,2,3,4,5,6,7,8,9,10  …  39,40,41,42,43,44,45,46,47,48],1.0,1,SpikeSorting.s_sizes(48,72,24)),SpikeSorting.Sorting_1(SpikeSorting.DetectNeg(),SpikeSorting.ClusterWindow(Array{SpikeSorting.mywin,1}[],UInt8[]),SpikeSorting.AlignMin(),SpikeSorting.FeatureTime(),SpikeSorting.ReductionNone(),SpikeSorting.ThresholdMeanN(-8.18941,716289,-8.18941,1.51962e10,1.51962e10,-5.86598e6,3.0),4,Int16[0,0,0,0,0,0,0,0,0,0  …  0,0,0,0,0,0,0,0,0,0],0,Int16[0,0,0,0,0,0,0,0,0,0  …  0,0,0,0,0,0,0,0,0,0],Int16[0,0,0,0,0,0,0,0,0,0  …  0,0,0,0,0,0,0,0,0,0],Int16[0,0,0,0,0,0,0,0,0,0  …  0,0,0,0,0,0,0,0,0,0],Int16[1,2,3,4,5,6,7,8,9,10  …  39,40,41,42,43,44,45,46,47,48],1.0,1,SpikeSorting.s_sizes(48,72,24)),SpikeSorting.Sorting_1(SpikeSorting.DetectNeg(),SpikeSorting.ClusterWindow(Array{SpikeSorting.mywin,1}[],UInt8[]),SpikeSorting.AlignMin(),SpikeSorting.FeatureTime(),SpikeSorting.ReductionNone(),SpikeSorting.ThresholdMeanN(-8.18941,716289,-8.18941,1.51962e10,1.51962e10,-5.86598e6,3.0),5,Int16[0,0,0,0,0,0,0,0,0,0  …  0,0,0,0,0,0,0,0,0,0],0,Int16[0,0,0,0,0,0,0,0,0,0  …  0,0,0,0,0,0,0,0,0,0],Int16[0,0,0,0,0,0,0,0,0,0  …  0,0,0,0,0,0,0,0,0,0],Int16[0,0,0,0,0,0,0,0,0,0  …  0,0,0,0,0,0,0,0,0,0],Int16[1,2,3,4,5,6,7,8,9,10  …  39,40,41,42,43,44,45,46,47,48],1.0,1,SpikeSorting.s_sizes(48,72,24)),SpikeSorting.Sorting_1(SpikeSorting.DetectNeg(),SpikeSorting.ClusterWindow(Array{SpikeSorting.mywin,1}[],UInt8[]),SpikeSorting.AlignMin(),SpikeSorting.FeatureTime(),SpikeSorting.ReductionNone(),SpikeSorting.ThresholdMeanN(-8.18941,716289,-8.18941,1.51962e10,1.51962e10,-5.86598e6,3.0),6,Int16[0,0,0,0,0,0,0,0,0,0  …  0,0,0,0,0,0,0,0,0,0],0,Int16[0,0,0,0,0,0,0,0,0,0  …  0,0,0,0,0,0,0,0,0,0],Int16[0,0,0,0,0,0,0,0,0,0  …  0,0,0,0,0,0,0,0,0,0],Int16[0,0,0,0,0,0,0,0,0,0  …  0,0,0,0,0,0,0,0,0,0],Int16[1,2,3,4,5,6,7,8,9,10  …  39,40,41,42,43,44,45,46,47,48],1.0,1,SpikeSorting.s_sizes(48,72,24)),SpikeSorting.Sorting_1(SpikeSorting.DetectNeg(),SpikeSorting.ClusterWindow(Array{SpikeSorting.mywin,1}[],UInt8[]),SpikeSorting.AlignMin(),SpikeSorting.FeatureTime(),SpikeSorting.ReductionNone(),SpikeSorting.ThresholdMeanN(-8.18941,716289,-8.18941,1.51962e10,1.51962e10,-5.86598e6,3.0),7,Int16[0,0,0,0,0,0,0,0,0,0  …  0,0,0,0,0,0,0,0,0,0],0,Int16[0,0,0,0,0,0,0,0,0,0  …  0,0,0,0,0,0,0,0,0,0],Int16[0,0,0,0,0,0,0,0,0,0  …  0,0,0,0,0,0,0,0,0,0],Int16[0,0,0,0,0,0,0,0,0,0  …  0,0,0,0,0,0,0,0,0,0],Int16[1,2,3,4,5,6,7,8,9,10  …  39,40,41,42,43,44,45,46,47,48],1.0,1,SpikeSorting.s_sizes(48,72,24)),SpikeSorting.Sorting_1(SpikeSorting.DetectNeg(),SpikeSorting.ClusterWindow(Array{SpikeSorting.mywin,1}[],UInt8[]),SpikeSorting.AlignMin(),SpikeSorting.FeatureTime(),SpikeSorting.ReductionNone(),SpikeSorting.ThresholdMeanN(-8.18941,716289,-8.18941,1.51962e10,1.51962e10,-5.86598e6,3.0),8,Int16[0,0,0,0,0,0,0,0,0,0  …  0,0,0,0,0,0,0,0,0,0],0,Int16[0,0,0,0,0,0,0,0,0,0  …  0,0,0,0,0,0,0,0,0,0],Int16[0,0,0,0,0,0,0,0,0,0  …  0,0,0,0,0,0,0,0,0,0],Int16[0,0,0,0,0,0,0,0,0,0  …  0,0,0,0,0,0,0,0,0,0],Int16[1,2,3,4,5,6,7,8,9,10  …  39,40,41,42,43,44,45,46,47,48],1.0,1,SpikeSorting.s_sizes(48,72,24)),SpikeSorting.Sorting_1(SpikeSorting.DetectNeg(),SpikeSorting.ClusterWindow(Array{SpikeSorting.mywin,1}[],UInt8[]),SpikeSorting.AlignMin(),SpikeSorting.FeatureTime(),SpikeSorting.ReductionNone(),SpikeSorting.ThresholdMeanN(-8.18941,716289,-8.18941,1.51962e10,1.51962e10,-5.86598e6,3.0),9,Int16[0,0,0,0,0,0,0,0,0,0  …  0,0,0,0,0,0,0,0,0,0],0,Int16[0,0,0,0,0,0,0,0,0,0  …  0,0,0,0,0,0,0,0,0,0],Int16[0,0,0,0,0,0,0,0,0,0  …  0,0,0,0,0,0,0,0,0,0],Int16[0,0,0,0,0,0,0,0,0,0  …  0,0,0,0,0,0,0,0,0,0],Int16[1,2,3,4,5,6,7,8,9,10  …  39,40,41,42,43,44,45,46,47,48],1.0,1,SpikeSorting.s_sizes(48,72,24)),SpikeSorting.Sorting_1(SpikeSorting.DetectNeg(),SpikeSorting.ClusterWindow(Array{SpikeSorting.mywin,1}[],UInt8[]),SpikeSorting.AlignMin(),SpikeSorting.FeatureTime(),SpikeSorting.ReductionNone(),SpikeSorting.ThresholdMeanN(-8.18941,716289,-8.18941,1.51962e10,1.51962e10,-5.86598e6,3.0),10,Int16[0,0,0,0,0,0,0,0,0,0  …  0,0,0,0,0,0,0,0,0,0],0,Int16[0,0,0,0,0,0,0,0,0,0  …  0,0,0,0,0,0,0,0,0,0],Int16[0,0,0,0,0,0,0,0,0,0  …  0,0,0,0,0,0,0,0,0,0],Int16[0,0,0,0,0,0,0,0,0,0  …  0,0,0,0,0,0,0,0,0,0],Int16[1,2,3,4,5,6,7,8,9,10  …  39,40,41,42,43,44,45,46,47,48],1.0,1,SpikeSorting.s_sizes(48,72,24))  …  SpikeSorting.Sorting_1(SpikeSorting.DetectNeg(),SpikeSorting.ClusterWindow(Array{SpikeSorting.mywin,1}[],UInt8[]),SpikeSorting.AlignMin(),SpikeSorting.FeatureTime(),SpikeSorting.ReductionNone(),SpikeSorting.ThresholdMeanN(-8.18941,716289,-8.18941,1.51962e10,1.51962e10,-5.86598e6,3.0),55,Int16[0,0,0,0,0,0,0,0,0,0  …  0,0,0,0,0,0,0,0,0,0],0,Int16[0,0,0,0,0,0,0,0,0,0  …  0,0,0,0,0,0,0,0,0,0],Int16[0,0,0,0,0,0,0,0,0,0  …  0,0,0,0,0,0,0,0,0,0],Int16[0,0,0,0,0,0,0,0,0,0  …  0,0,0,0,0,0,0,0,0,0],Int16[1,2,3,4,5,6,7,8,9,10  …  39,40,41,42,43,44,45,46,47,48],1.0,1,SpikeSorting.s_sizes(48,72,24)),SpikeSorting.Sorting_1(SpikeSorting.DetectNeg(),SpikeSorting.ClusterWindow(Array{SpikeSorting.mywin,1}[],UInt8[]),SpikeSorting.AlignMin(),SpikeSorting.FeatureTime(),SpikeSorting.ReductionNone(),SpikeSorting.ThresholdMeanN(-8.18941,716289,-8.18941,1.51962e10,1.51962e10,-5.86598e6,3.0),56,Int16[0,0,0,0,0,0,0,0,0,0  …  0,0,0,0,0,0,0,0,0,0],0,Int16[0,0,0,0,0,0,0,0,0,0  …  0,0,0,0,0,0,0,0,0,0],Int16[0,0,0,0,0,0,0,0,0,0  …  0,0,0,0,0,0,0,0,0,0],Int16[0,0,0,0,0,0,0,0,0,0  …  0,0,0,0,0,0,0,0,0,0],Int16[1,2,3,4,5,6,7,8,9,10  …  39,40,41,42,43,44,45,46,47,48],1.0,1,SpikeSorting.s_sizes(48,72,24)),SpikeSorting.Sorting_1(SpikeSorting.DetectNeg(),SpikeSorting.ClusterWindow(Array{SpikeSorting.mywin,1}[],UInt8[]),SpikeSorting.AlignMin(),SpikeSorting.FeatureTime(),SpikeSorting.ReductionNone(),SpikeSorting.ThresholdMeanN(-8.18941,716289,-8.18941,1.51962e10,1.51962e10,-5.86598e6,3.0),57,Int16[0,0,0,0,0,0,0,0,0,0  …  0,0,0,0,0,0,0,0,0,0],0,Int16[0,0,0,0,0,0,0,0,0,0  …  0,0,0,0,0,0,0,0,0,0],Int16[0,0,0,0,0,0,0,0,0,0  …  0,0,0,0,0,0,0,0,0,0],Int16[0,0,0,0,0,0,0,0,0,0  …  0,0,0,0,0,0,0,0,0,0],Int16[1,2,3,4,5,6,7,8,9,10  …  39,40,41,42,43,44,45,46,47,48],1.0,1,SpikeSorting.s_sizes(48,72,24)),SpikeSorting.Sorting_1(SpikeSorting.DetectNeg(),SpikeSorting.ClusterWindow(Array{SpikeSorting.mywin,1}[],UInt8[]),SpikeSorting.AlignMin(),SpikeSorting.FeatureTime(),SpikeSorting.ReductionNone(),SpikeSorting.ThresholdMeanN(-8.18941,716289,-8.18941,1.51962e10,1.51962e10,-5.86598e6,3.0),58,Int16[0,0,0,0,0,0,0,0,0,0  …  0,0,0,0,0,0,0,0,0,0],0,Int16[0,0,0,0,0,0,0,0,0,0  …  0,0,0,0,0,0,0,0,0,0],Int16[0,0,0,0,0,0,0,0,0,0  …  0,0,0,0,0,0,0,0,0,0],Int16[0,0,0,0,0,0,0,0,0,0  …  0,0,0,0,0,0,0,0,0,0],Int16[1,2,3,4,5,6,7,8,9,10  …  39,40,41,42,43,44,45,46,47,48],1.0,1,SpikeSorting.s_sizes(48,72,24)),SpikeSorting.Sorting_1(SpikeSorting.DetectNeg(),SpikeSorting.ClusterWindow(Array{SpikeSorting.mywin,1}[],UInt8[]),SpikeSorting.AlignMin(),SpikeSorting.FeatureTime(),SpikeSorting.ReductionNone(),SpikeSorting.ThresholdMeanN(-8.18941,716289,-8.18941,1.51962e10,1.51962e10,-5.86598e6,3.0),59,Int16[0,0,0,0,0,0,0,0,0,0  …  0,0,0,0,0,0,0,0,0,0],0,Int16[0,0,0,0,0,0,0,0,0,0  …  0,0,0,0,0,0,0,0,0,0],Int16[0,0,0,0,0,0,0,0,0,0  …  0,0,0,0,0,0,0,0,0,0],Int16[0,0,0,0,0,0,0,0,0,0  …  0,0,0,0,0,0,0,0,0,0],Int16[1,2,3,4,5,6,7,8,9,10  …  39,40,41,42,43,44,45,46,47,48],1.0,1,SpikeSorting.s_sizes(48,72,24)),SpikeSorting.Sorting_1(SpikeSorting.DetectNeg(),SpikeSorting.ClusterWindow(Array{SpikeSorting.mywin,1}[],UInt8[]),SpikeSorting.AlignMin(),SpikeSorting.FeatureTime(),SpikeSorting.ReductionNone(),SpikeSorting.ThresholdMeanN(-8.18941,716289,-8.18941,1.51962e10,1.51962e10,-5.86598e6,3.0),60,Int16[0,0,0,0,0,0,0,0,0,0  …  0,0,0,0,0,0,0,0,0,0],0,Int16[0,0,0,0,0,0,0,0,0,0  …  0,0,0,0,0,0,0,0,0,0],Int16[0,0,0,0,0,0,0,0,0,0  …  0,0,0,0,0,0,0,0,0,0],Int16[0,0,0,0,0,0,0,0,0,0  …  0,0,0,0,0,0,0,0,0,0],Int16[1,2,3,4,5,6,7,8,9,10  …  39,40,41,42,43,44,45,46,47,48],1.0,1,SpikeSorting.s_sizes(48,72,24)),SpikeSorting.Sorting_1(SpikeSorting.DetectNeg(),SpikeSorting.ClusterWindow(Array{SpikeSorting.mywin,1}[],UInt8[]),SpikeSorting.AlignMin(),SpikeSorting.FeatureTime(),SpikeSorting.ReductionNone(),SpikeSorting.ThresholdMeanN(-8.18941,716289,-8.18941,1.51962e10,1.51962e10,-5.86598e6,3.0),61,Int16[0,0,0,0,0,0,0,0,0,0  …  0,0,0,0,0,0,0,0,0,0],0,Int16[0,0,0,0,0,0,0,0,0,0  …  0,0,0,0,0,0,0,0,0,0],Int16[0,0,0,0,0,0,0,0,0,0  …  0,0,0,0,0,0,0,0,0,0],Int16[0,0,0,0,0,0,0,0,0,0  …  0,0,0,0,0,0,0,0,0,0],Int16[1,2,3,4,5,6,7,8,9,10  …  39,40,41,42,43,44,45,46,47,48],1.0,1,SpikeSorting.s_sizes(48,72,24)),SpikeSorting.Sorting_1(SpikeSorting.DetectNeg(),SpikeSorting.ClusterWindow(Array{SpikeSorting.mywin,1}[],UInt8[]),SpikeSorting.AlignMin(),SpikeSorting.FeatureTime(),SpikeSorting.ReductionNone(),SpikeSorting.ThresholdMeanN(-8.18941,716289,-8.18941,1.51962e10,1.51962e10,-5.86598e6,3.0),62,Int16[0,0,0,0,0,0,0,0,0,0  …  0,0,0,0,0,0,0,0,0,0],0,Int16[0,0,0,0,0,0,0,0,0,0  …  0,0,0,0,0,0,0,0,0,0],Int16[0,0,0,0,0,0,0,0,0,0  …  0,0,0,0,0,0,0,0,0,0],Int16[0,0,0,0,0,0,0,0,0,0  …  0,0,0,0,0,0,0,0,0,0],Int16[1,2,3,4,5,6,7,8,9,10  …  39,40,41,42,43,44,45,46,47,48],1.0,1,SpikeSorting.s_sizes(48,72,24)),SpikeSorting.Sorting_1(SpikeSorting.DetectNeg(),SpikeSorting.ClusterWindow(Array{SpikeSorting.mywin,1}[],UInt8[]),SpikeSorting.AlignMin(),SpikeSorting.FeatureTime(),SpikeSorting.ReductionNone(),SpikeSorting.ThresholdMeanN(-8.18941,716289,-8.18941,1.51962e10,1.51962e10,-5.86598e6,3.0),63,Int16[0,0,0,0,0,0,0,0,0,0  …  0,0,0,0,0,0,0,0,0,0],0,Int16[0,0,0,0,0,0,0,0,0,0  …  0,0,0,0,0,0,0,0,0,0],Int16[0,0,0,0,0,0,0,0,0,0  …  0,0,0,0,0,0,0,0,0,0],Int16[0,0,0,0,0,0,0,0,0,0  …  0,0,0,0,0,0,0,0,0,0],Int16[1,2,3,4,5,6,7,8,9,10  …  39,40,41,42,43,44,45,46,47,48],1.0,1,SpikeSorting.s_sizes(48,72,24)),SpikeSorting.Sorting_1(SpikeSorting.DetectNeg(),SpikeSorting.ClusterWindow(Array{SpikeSorting.mywin,1}[],UInt8[]),SpikeSorting.AlignMin(),SpikeSorting.FeatureTime(),SpikeSorting.ReductionNone(),SpikeSorting.ThresholdMeanN(-8.18941,716289,-8.18941,1.51962e10,1.51962e10,-5.86598e6,3.0),64,Int16[0,0,0,0,0,0,0,0,0,0  …  0,0,0,0,0,0,0,0,0,0],0,Int16[0,0,0,0,0,0,0,0,0,0  …  0,0,0,0,0,0,0,0,0,0],Int16[0,0,0,0,0,0,0,0,0,0  …  0,0,0,0,0,0,0,0,0,0],Int16[0,0,0,0,0,0,0,0,0,0  …  0,0,0,0,0,0,0,0,0,0],Int16[1,2,3,4,5,6,7,8,9,10  …  39,40,41,42,43,44,45,46,47,48],1.0,1,SpikeSorting.s_sizes(48,72,24))],SpikeSorting.Spike[SpikeSorting.Spike(0:0,0x00) SpikeSorting.Spike(0:0,0x00) … SpikeSorting.Spike(0:0,0x00) SpikeSorting.Spike(0:0,0x00); SpikeSorting.Spike(0:0,0x00) SpikeSorting.Spike(0:0,0x00) … SpikeSorting.Spike(0:0,0x00) SpikeSorting.Spike(0:0,0x00); … ; SpikeSorting.Spike(0:0,0x00) SpikeSorting.Spike(0:0,0x00) … SpikeSorting.Spike(0:0,0x00) SpikeSorting.Spike(0:0,0x00); SpikeSorting.Spike(0:0,0x00) SpikeSorting.Spike(0:0,0x00) … SpikeSorting.Spike(0:0,0x00) SpikeSorting.Spike(0:0,0x00)],UInt16[0x0000,0x0000,0x0000,0x0000,0x0000,0x0000,0x0000,0x0000,0x0000,0x0000  …  0x0000,0x0000,0x0000,0x0000,0x0000,0x0000,0x0000,0x0000,0x0000,0x0000],Intan.Debug(true,\"qq\",[110.211,80.2977,53.0749,35.9288,18.9067,-3.60183,-18.4581,-15.7408,-9.86663,-10.2511  …  -58.0117,-50.849,-61.3276,-84.6113,-106.605,-118.246,-142.128,-192.599,-246.672,-274.668],1,239616),0,0,Intan.Task_NoTask(),Intan.SaveNone(\"./2016-10-03T21:57:45.586/ts.bin\",\"./2016-10-03T21:57:45.586/adc.bin\",\"./2016-10-03T21:57:45.586/ttl.bin\",\"./2016-10-03T21:57:45.586\"),DSP.Filters.DF2TFilter{DSP.Filters.SecondOrderSections{Float64,Float64},Array{Float64,2}}[DSP.Filters.DF2TFilter{DSP.Filters.SecondOrderSections{Float64,Float64},Array{Float64,2}}(DSP.Filters.SecondOrderSections{Float64,Float64}(DSP.Filters.Biquad{Float64}[DSP.Filters.Biquad{Float64}(1.0,-1.99984,1.0,-1.99945,0.999611),DSP.Filters.Biquad{Float64}(1.0,-1.99984,1.0,-1.99946,0.999616),DSP.Filters.Biquad{Float64}(1.0,-1.99984,1.0,-1.99967,0.999837),DSP.Filters.Biquad{Float64}(1.0,-1.99984,1.0,-1.99969,0.999842)],0.999453),[0.0 0.0 0.0 0.0; 0.0 0.0 0.0 0.0]),DSP.Filters.DF2TFilter{DSP.Filters.SecondOrderSections{Float64,Float64},Array{Float64,2}}(DSP.Filters.SecondOrderSections{Float64,Float64}(DSP.Filters.Biquad{Float64}[DSP.Filters.Biquad{Float64}(1.0,-1.99984,1.0,-1.99945,0.999611),DSP.Filters.Biquad{Float64}(1.0,-1.99984,1.0,-1.99946,0.999616),DSP.Filters.Biquad{Float64}(1.0,-1.99984,1.0,-1.99967,0.999837),DSP.Filters.Biquad{Float64}(1.0,-1.99984,1.0,-1.99969,0.999842)],0.999453),[0.0 0.0 0.0 0.0; 0.0 0.0 0.0 0.0]),DSP.Filters.DF2TFilter{DSP.Filters.SecondOrderSections{Float64,Float64},Array{Float64,2}}(DSP.Filters.SecondOrderSections{Float64,Float64}(DSP.Filters.Biquad{Float64}[DSP.Filters.Biquad{Float64}(1.0,-1.99984,1.0,-1.99945,0.999611),DSP.Filters.Biquad{Float64}(1.0,-1.99984,1.0,-1.99946,0.999616),DSP.Filters.Biquad{Float64}(1.0,-1.99984,1.0,-1.99967,0.999837),DSP.Filters.Biquad{Float64}(1.0,-1.99984,1.0,-1.99969,0.999842)],0.999453),[0.0 0.0 0.0 0.0; 0.0 0.0 0.0 0.0]),DSP.Filters.DF2TFilter{DSP.Filters.SecondOrderSections{Float64,Float64},Array{Float64,2}}(DSP.Filters.SecondOrderSections{Float64,Float64}(DSP.Filters.Biquad{Float64}[DSP.Filters.Biquad{Float64}(1.0,-1.99984,1.0,-1.99945,0.999611),DSP.Filters.Biquad{Float64}(1.0,-1.99984,1.0,-1.99946,0.999616),DSP.Filters.Biquad{Float64}(1.0,-1.99984,1.0,-1.99967,0.999837),DSP.Filters.Biquad{Float64}(1.0,-1.99984,1.0,-1.99969,0.999842)],0.999453),[0.0 0.0 0.0 0.0; 0.0 0.0 0.0 0.0]),DSP.Filters.DF2TFilter{DSP.Filters.SecondOrderSections{Float64,Float64},Array{Float64,2}}(DSP.Filters.SecondOrderSections{Float64,Float64}(DSP.Filters.Biquad{Float64}[DSP.Filters.Biquad{Float64}(1.0,-1.99984,1.0,-1.99945,0.999611),DSP.Filters.Biquad{Float64}(1.0,-1.99984,1.0,-1.99946,0.999616),DSP.Filters.Biquad{Float64}(1.0,-1.99984,1.0,-1.99967,0.999837),DSP.Filters.Biquad{Float64}(1.0,-1.99984,1.0,-1.99969,0.999842)],0.999453),[0.0 0.0 0.0 0.0; 0.0 0.0 0.0 0.0]),DSP.Filters.DF2TFilter{DSP.Filters.SecondOrderSections{Float64,Float64},Array{Float64,2}}(DSP.Filters.SecondOrderSections{Float64,Float64}(DSP.Filters.Biquad{Float64}[DSP.Filters.Biquad{Float64}(1.0,-1.99984,1.0,-1.99945,0.999611),DSP.Filters.Biquad{Float64}(1.0,-1.99984,1.0,-1.99946,0.999616),DSP.Filters.Biquad{Float64}(1.0,-1.99984,1.0,-1.99967,0.999837),DSP.Filters.Biquad{Float64}(1.0,-1.99984,1.0,-1.99969,0.999842)],0.999453),[0.0 0.0 0.0 0.0; 0.0 0.0 0.0 0.0]),DSP.Filters.DF2TFilter{DSP.Filters.SecondOrderSections{Float64,Float64},Array{Float64,2}}(DSP.Filters.SecondOrderSections{Float64,Float64}(DSP.Filters.Biquad{Float64}[DSP.Filters.Biquad{Float64}(1.0,-1.99984,1.0,-1.99945,0.999611),DSP.Filters.Biquad{Float64}(1.0,-1.99984,1.0,-1.99946,0.999616),DSP.Filters.Biquad{Float64}(1.0,-1.99984,1.0,-1.99967,0.999837),DSP.Filters.Biquad{Float64}(1.0,-1.99984,1.0,-1.99969,0.999842)],0.999453),[0.0 0.0 0.0 0.0; 0.0 0.0 0.0 0.0]),DSP.Filters.DF2TFilter{DSP.Filters.SecondOrderSections{Float64,Float64},Array{Float64,2}}(DSP.Filters.SecondOrderSections{Float64,Float64}(DSP.Filters.Biquad{Float64}[DSP.Filters.Biquad{Float64}(1.0,-1.99984,1.0,-1.99945,0.999611),DSP.Filters.Biquad{Float64}(1.0,-1.99984,1.0,-1.99946,0.999616),DSP.Filters.Biquad{Float64}(1.0,-1.99984,1.0,-1.99967,0.999837),DSP.Filters.Biquad{Float64}(1.0,-1.99984,1.0,-1.99969,0.999842)],0.999453),[0.0 0.0 0.0 0.0; 0.0 0.0 0.0 0.0]),DSP.Filters.DF2TFilter{DSP.Filters.SecondOrderSections{Float64,Float64},Array{Float64,2}}(DSP.Filters.SecondOrderSections{Float64,Float64}(DSP.Filters.Biquad{Float64}[DSP.Filters.Biquad{Float64}(1.0,-1.99984,1.0,-1.99945,0.999611),DSP.Filters.Biquad{Float64}(1.0,-1.99984,1.0,-1.99946,0.999616),DSP.Filters.Biquad{Float64}(1.0,-1.99984,1.0,-1.99967,0.999837),DSP.Filters.Biquad{Float64}(1.0,-1.99984,1.0,-1.99969,0.999842)],0.999453),[0.0 0.0 0.0 0.0; 0.0 0.0 0.0 0.0]),DSP.Filters.DF2TFilter{DSP.Filters.SecondOrderSections{Float64,Float64},Array{Float64,2}}(DSP.Filters.SecondOrderSections{Float64,Float64}(DSP.Filters.Biquad{Float64}[DSP.Filters.Biquad{Float64}(1.0,-1.99984,1.0,-1.99945,0.999611),DSP.Filters.Biquad{Float64}(1.0,-1.99984,1.0,-1.99946,0.999616),DSP.Filters.Biquad{Float64}(1.0,-1.99984,1.0,-1.99967,0.999837),DSP.Filters.Biquad{Float64}(1.0,-1.99984,1.0,-1.99969,0.999842)],0.999453),[0.0 0.0 0.0 0.0; 0.0 0.0 0.0 0.0])  …  DSP.Filters.DF2TFilter{DSP.Filters.SecondOrderSections{Float64,Float64},Array{Float64,2}}(DSP.Filters.SecondOrderSections{Float64,Float64}(DSP.Filters.Biquad{Float64}[DSP.Filters.Biquad{Float64}(1.0,-1.99984,1.0,-1.99945,0.999611),DSP.Filters.Biquad{Float64}(1.0,-1.99984,1.0,-1.99946,0.999616),DSP.Filters.Biquad{Float64}(1.0,-1.99984,1.0,-1.99967,0.999837),DSP.Filters.Biquad{Float64}(1.0,-1.99984,1.0,-1.99969,0.999842)],0.999453),[0.0 0.0 0.0 0.0; 0.0 0.0 0.0 0.0]),DSP.Filters.DF2TFilter{DSP.Filters.SecondOrderSections{Float64,Float64},Array{Float64,2}}(DSP.Filters.SecondOrderSections{Float64,Float64}(DSP.Filters.Biquad{Float64}[DSP.Filters.Biquad{Float64}(1.0,-1.99984,1.0,-1.99945,0.999611),DSP.Filters.Biquad{Float64}(1.0,-1.99984,1.0,-1.99946,0.999616),DSP.Filters.Biquad{Float64}(1.0,-1.99984,1.0,-1.99967,0.999837),DSP.Filters.Biquad{Float64}(1.0,-1.99984,1.0,-1.99969,0.999842)],0.999453),[0.0 0.0 0.0 0.0; 0.0 0.0 0.0 0.0]),DSP.Filters.DF2TFilter{DSP.Filters.SecondOrderSections{Float64,Float64},Array{Float64,2}}(DSP.Filters.SecondOrderSections{Float64,Float64}(DSP.Filters.Biquad{Float64}[DSP.Filters.Biquad{Float64}(1.0,-1.99984,1.0,-1.99945,0.999611),DSP.Filters.Biquad{Float64}(1.0,-1.99984,1.0,-1.99946,0.999616),DSP.Filters.Biquad{Float64}(1.0,-1.99984,1.0,-1.99967,0.999837),DSP.Filters.Biquad{Float64}(1.0,-1.99984,1.0,-1.99969,0.999842)],0.999453),[0.0 0.0 0.0 0.0; 0.0 0.0 0.0 0.0]),DSP.Filters.DF2TFilter{DSP.Filters.SecondOrderSections{Float64,Float64},Array{Float64,2}}(DSP.Filters.SecondOrderSections{Float64,Float64}(DSP.Filters.Biquad{Float64}[DSP.Filters.Biquad{Float64}(1.0,-1.99984,1.0,-1.99945,0.999611),DSP.Filters.Biquad{Float64}(1.0,-1.99984,1.0,-1.99946,0.999616),DSP.Filters.Biquad{Float64}(1.0,-1.99984,1.0,-1.99967,0.999837),DSP.Filters.Biquad{Float64}(1.0,-1.99984,1.0,-1.99969,0.999842)],0.999453),[0.0 0.0 0.0 0.0; 0.0 0.0 0.0 0.0]),DSP.Filters.DF2TFilter{DSP.Filters.SecondOrderSections{Float64,Float64},Array{Float64,2}}(DSP.Filters.SecondOrderSections{Float64,Float64}(DSP.Filters.Biquad{Float64}[DSP.Filters.Biquad{Float64}(1.0,-1.99984,1.0,-1.99945,0.999611),DSP.Filters.Biquad{Float64}(1.0,-1.99984,1.0,-1.99946,0.999616),DSP.Filters.Biquad{Float64}(1.0,-1.99984,1.0,-1.99967,0.999837),DSP.Filters.Biquad{Float64}(1.0,-1.99984,1.0,-1.99969,0.999842)],0.999453),[0.0 0.0 0.0 0.0; 0.0 0.0 0.0 0.0]),DSP.Filters.DF2TFilter{DSP.Filters.SecondOrderSections{Float64,Float64},Array{Float64,2}}(DSP.Filters.SecondOrderSections{Float64,Float64}(DSP.Filters.Biquad{Float64}[DSP.Filters.Biquad{Float64}(1.0,-1.99984,1.0,-1.99945,0.999611),DSP.Filters.Biquad{Float64}(1.0,-1.99984,1.0,-1.99946,0.999616),DSP.Filters.Biquad{Float64}(1.0,-1.99984,1.0,-1.99967,0.999837),DSP.Filters.Biquad{Float64}(1.0,-1.99984,1.0,-1.99969,0.999842)],0.999453),[0.0 0.0 0.0 0.0; 0.0 0.0 0.0 0.0]),DSP.Filters.DF2TFilter{DSP.Filters.SecondOrderSections{Float64,Float64},Array{Float64,2}}(DSP.Filters.SecondOrderSections{Float64,Float64}(DSP.Filters.Biquad{Float64}[DSP.Filters.Biquad{Float64}(1.0,-1.99984,1.0,-1.99945,0.999611),DSP.Filters.Biquad{Float64}(1.0,-1.99984,1.0,-1.99946,0.999616),DSP.Filters.Biquad{Float64}(1.0,-1.99984,1.0,-1.99967,0.999837),DSP.Filters.Biquad{Float64}(1.0,-1.99984,1.0,-1.99969,0.999842)],0.999453),[0.0 0.0 0.0 0.0; 0.0 0.0 0.0 0.0]),DSP.Filters.DF2TFilter{DSP.Filters.SecondOrderSections{Float64,Float64},Array{Float64,2}}(DSP.Filters.SecondOrderSections{Float64,Float64}(DSP.Filters.Biquad{Float64}[DSP.Filters.Biquad{Float64}(1.0,-1.99984,1.0,-1.99945,0.999611),DSP.Filters.Biquad{Float64}(1.0,-1.99984,1.0,-1.99946,0.999616),DSP.Filters.Biquad{Float64}(1.0,-1.99984,1.0,-1.99967,0.999837),DSP.Filters.Biquad{Float64}(1.0,-1.99984,1.0,-1.99969,0.999842)],0.999453),[0.0 0.0 0.0 0.0; 0.0 0.0 0.0 0.0]),DSP.Filters.DF2TFilter{DSP.Filters.SecondOrderSections{Float64,Float64},Array{Float64,2}}(DSP.Filters.SecondOrderSections{Float64,Float64}(DSP.Filters.Biquad{Float64}[DSP.Filters.Biquad{Float64}(1.0,-1.99984,1.0,-1.99945,0.999611),DSP.Filters.Biquad{Float64}(1.0,-1.99984,1.0,-1.99946,0.999616),DSP.Filters.Biquad{Float64}(1.0,-1.99984,1.0,-1.99967,0.999837),DSP.Filters.Biquad{Float64}(1.0,-1.99984,1.0,-1.99969,0.999842)],0.999453),[0.0 0.0 0.0 0.0; 0.0 0.0 0.0 0.0]),DSP.Filters.DF2TFilter{DSP.Filters.SecondOrderSections{Float64,Float64},Array{Float64,2}}(DSP.Filters.SecondOrderSections{Float64,Float64}(DSP.Filters.Biquad{Float64}[DSP.Filters.Biquad{Float64}(1.0,-1.99984,1.0,-1.99945,0.999611),DSP.Filters.Biquad{Float64}(1.0,-1.99984,1.0,-1.99946,0.999616),DSP.Filters.Biquad{Float64}(1.0,-1.99984,1.0,-1.99967,0.999837),DSP.Filters.Biquad{Float64}(1.0,-1.99984,1.0,-1.99969,0.999842)],0.999453),[0.0 0.0 0.0 0.0; 0.0 0.0 0.0 0.0])],30000,[0,0,0,0,0,0,0,0,0,0  …  0,0,0,0,0,0,0,0,0,0],false,UInt32[0x00000000; 0x00000000; … ; 0x00000000; 0x00000000],Intan.WIFI(false,1))"
      ]
     },
     "execution_count": 13,
     "metadata": {},
     "output_type": "execute_result"
    }
   ],
   "source": [
    "myrhd=makeRHD([myfpga],mt,sav=mys,debug=d)"
   ]
  },
  {
   "cell_type": "code",
   "execution_count": 14,
   "metadata": {
    "collapsed": false,
    "scrolled": true
   },
   "outputs": [
    {
     "name": "stdout",
     "output_type": "stream",
     "text": [
      "Sample Rate set at 30000 on board 1\n"
     ]
    }
   ],
   "source": [
    "handles = makegui(myrhd);"
   ]
  },
  {
   "cell_type": "code",
   "execution_count": null,
   "metadata": {
    "collapsed": true
   },
   "outputs": [],
   "source": []
  }
 ],
 "metadata": {
  "anaconda-cloud": {},
  "kernelspec": {
   "display_name": "Julia 0.5.0",
   "language": "julia",
   "name": "julia-0.5"
  },
  "language_info": {
   "file_extension": ".jl",
   "mimetype": "application/julia",
   "name": "julia",
   "version": "0.5.0"
  }
 },
 "nbformat": 4,
 "nbformat_minor": 0
}
