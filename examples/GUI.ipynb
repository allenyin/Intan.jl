{
 "cells": [
  {
   "cell_type": "code",
   "execution_count": null,
   "metadata": {
    "collapsed": false
   },
   "outputs": [],
   "source": [
    "using SpikeSorting, Intan;"
   ]
  },
  {
   "cell_type": "code",
   "execution_count": null,
   "metadata": {
    "collapsed": false
   },
   "outputs": [],
   "source": [
    "#First create amplifier array:\n",
    "myamp=RHD2164(\"PortA1\")\n",
    "\n",
    "#Initialize evaluation board with appropriate amplifier vector and \n",
    "#sampling rate\n",
    "sr=20000\n",
    "\n",
    "#Initialize evaluation board setup\n",
    "myrhd=RHD2000([myamp],\"single\");\n",
    "\n",
    "#Create fake data for 1) analog input 2) output Spike buffer \n",
    "# 3) output number buffer\n",
    "for i=1:64\n",
    "    for j=1:10\n",
    "        ind=rand(1:550,1)[1]\n",
    "        myrhd.buf[j,i]=Spike(ind:(ind+49),1) \n",
    "    end\n",
    "end\n",
    "\n",
    "myrhd.v[:] = rand(1:100,600,64); #random input\n",
    "\n",
    "myrhd.nums[:]=1#output number"
   ]
  },
  {
   "cell_type": "code",
   "execution_count": null,
   "metadata": {
    "collapsed": true
   },
   "outputs": [],
   "source": [
    "handles = Intan.makegui(myrhd);"
   ]
  },
  {
   "cell_type": "code",
   "execution_count": null,
   "metadata": {
    "collapsed": true
   },
   "outputs": [],
   "source": []
  }
 ],
 "metadata": {
  "kernelspec": {
   "display_name": "Julia 0.4.2-pre",
   "language": "julia",
   "name": "julia-0.4"
  },
  "language_info": {
   "file_extension": ".jl",
   "mimetype": "application/julia",
   "name": "julia",
   "version": "0.4.3"
  }
 },
 "nbformat": 4,
 "nbformat_minor": 0
}
