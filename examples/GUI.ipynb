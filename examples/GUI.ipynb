{
 "cells": [
  {
   "cell_type": "markdown",
   "metadata": {},
   "source": [
    "# Intan GUI\n",
    "\n",
    "This notebook will demonstrate the functionality of the Intan.jl GUI. We hope that this will eventually encompass 1) data acquisition, 2) visualization, 3) automatic and manual spike sorting, and 4) experimental control."
   ]
  },
  {
   "cell_type": "code",
   "execution_count": null,
   "metadata": {
    "collapsed": false
   },
   "outputs": [],
   "source": [
    "using Intan"
   ]
  },
  {
   "cell_type": "code",
   "execution_count": null,
   "metadata": {
    "collapsed": false
   },
   "outputs": [],
   "source": [
    "#First create amplifier array:\n",
    "myamp=RHD2164(\"PortA1\")\n",
    "\n",
    "#Connect to FPGA\n",
    "myfpga=FPGA(myamp)\n",
    "\n",
    "#Setup debug\n",
    "\n",
    "d=Debug(\"/home/nicolelislab/Intan.jl/test/data/qq.mat\",\"qq\");\n",
    "\n",
    "#Task\n",
    "mt=Task_TestTask()\n",
    "\n",
    "#Save\n",
    "mys=SaveNone()\n",
    "\n",
    "#Initialize evaluation board setup\n",
    "myrhd=makeRHD([myfpga],mt,sav=mys,debug=d);"
   ]
  },
  {
   "cell_type": "code",
   "execution_count": null,
   "metadata": {
    "collapsed": false,
    "scrolled": true
   },
   "outputs": [],
   "source": [
    "handles = makegui(myrhd);"
   ]
  },
  {
   "cell_type": "code",
   "execution_count": null,
   "metadata": {
    "collapsed": true
   },
   "outputs": [],
   "source": []
  }
 ],
 "metadata": {
  "kernelspec": {
   "display_name": "Julia 0.4.6-pre",
   "language": "julia",
   "name": "julia-0.4"
  },
  "language_info": {
   "file_extension": ".jl",
   "mimetype": "application/julia",
   "name": "julia",
   "version": "0.4.6"
  }
 },
 "nbformat": 4,
 "nbformat_minor": 0
}
