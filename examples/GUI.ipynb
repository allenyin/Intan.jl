{
 "cells": [
  {
   "cell_type": "code",
   "execution_count": null,
   "metadata": {
    "collapsed": false
   },
   "outputs": [],
   "source": [
    "using SpikeSorting, Intan;"
   ]
  },
  {
   "cell_type": "code",
   "execution_count": 3,
   "metadata": {
    "collapsed": false
   },
   "outputs": [
    {
     "name": "stderr",
     "output_type": "stream",
     "text": [
      "WARNING: redefining constant buf1\n",
      "WARNING: redefining constant input\n",
      "WARNING: redefining constant nums1\n"
     ]
    }
   ],
   "source": [
    "#Create fake data for 1) analog input 2) output Spike buffer \n",
    "# 3) output number buffer\n",
    "\n",
    "\n",
    "channel_num = 64 # number of channels\n",
    "\n",
    "(buf,nums)=output_buffer(channel_num);\n",
    "\n",
    "const buf1=buf; #spikes\n",
    "\n",
    "#Make some fake spike indices:\n",
    "\n",
    "for i=1:channel_num\n",
    "    for j=1:10\n",
    "        ind=rand(1:15000,1)[1]\n",
    "        buf1[j,i]=Spike(ind:(ind+49),1) \n",
    "    end\n",
    "end\n",
    "\n",
    "const input = rand(1:100,20000,channel_num); #random input\n",
    "\n",
    "const nums1=nums+1; #output number\n",
    "\n",
    "handles = Intan.makegui(input,buf1,nums1);"
   ]
  },
  {
   "cell_type": "code",
   "execution_count": null,
   "metadata": {
    "collapsed": true
   },
   "outputs": [],
   "source": []
  }
 ],
 "metadata": {
  "kernelspec": {
   "display_name": "Julia 0.4.2-pre",
   "language": "julia",
   "name": "julia-0.4"
  },
  "language_info": {
   "file_extension": ".jl",
   "mimetype": "application/julia",
   "name": "julia",
   "version": "0.4.2"
  }
 },
 "nbformat": 4,
 "nbformat_minor": 0
}
