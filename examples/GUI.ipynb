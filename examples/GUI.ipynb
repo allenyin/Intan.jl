{
 "cells": [
  {
   "cell_type": "markdown",
   "metadata": {},
   "source": [
    "# Intan GUI\n",
    "\n",
    "This notebook will demonstrate the functionality of the Intan.jl GUI. We hope that this will eventually encompass 1) data acquisition, 2) visualization, 3) automatic and manual spike sorting, and 4) experimental control."
   ]
  },
  {
   "cell_type": "code",
   "execution_count": null,
   "metadata": {
    "collapsed": false
   },
   "outputs": [],
   "source": [
    "using Intan"
   ]
  },
  {
   "cell_type": "code",
   "execution_count": null,
   "metadata": {
    "collapsed": false
   },
   "outputs": [],
   "source": [
    "#First create amplifier array:\n",
    "myamp=RHD2164(\"PortA1\")\n",
    "\n",
    "#Setup debug\n",
    "\n",
    "d=Debug(\"/home/nicolelislab/Downloads/Simulator/C_Easy1_noise01_short.mat\",\"qq\");\n",
    "\n",
    "#Task\n",
    "mt=Task_TestTask()\n",
    "\n",
    "#Save\n",
    "mys=SaveNone()\n",
    "\n",
    "#Initialize evaluation board setup\n",
    "myrhd=makeRHD(myamp,\"single\",mt,sav=mys,debug=d);"
   ]
  },
  {
   "cell_type": "code",
   "execution_count": null,
   "metadata": {
    "collapsed": false,
    "scrolled": true
   },
   "outputs": [],
   "source": [
    "handles = makegui(myrhd);"
   ]
  },
  {
   "cell_type": "code",
   "execution_count": null,
   "metadata": {
    "collapsed": true
   },
   "outputs": [],
   "source": []
  }
 ],
 "metadata": {
  "kernelspec": {
   "display_name": "Julia 0.4.4-pre",
   "language": "julia",
   "name": "julia-0.4"
  },
  "language_info": {
   "file_extension": ".jl",
   "mimetype": "application/julia",
   "name": "julia",
   "version": "0.4.5"
  }
 },
 "nbformat": 4,
 "nbformat_minor": 0
}
