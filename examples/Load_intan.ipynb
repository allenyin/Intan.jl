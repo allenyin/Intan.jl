{
 "cells": [
  {
   "cell_type": "code",
   "execution_count": null,
   "metadata": {
    "collapsed": false
   },
   "outputs": [],
   "source": [
    "#addprocs()\n",
    "using Intan"
   ]
  },
  {
   "cell_type": "code",
   "execution_count": null,
   "metadata": {
    "collapsed": false,
    "scrolled": true
   },
   "outputs": [],
   "source": [
    "#In this example, we will consider one 64 channel RHD2164 amp \n",
    "#connected to Port A1 of an Intan evaluation board\n",
    "\n",
    "#First create amplifier array:\n",
    "myamp=RHD2164(\"PortA1\")\n",
    "\n",
    "#Initialize evaluation board with appropriate amplifier vector and \n",
    "#sampling rate\n",
    "sr=20000\n",
    "\n",
    "myrhd=init_board([myamp],sr)\n"
   ]
  },
  {
   "cell_type": "code",
   "execution_count": null,
   "metadata": {
    "collapsed": false
   },
   "outputs": [],
   "source": [
    "#1 second sequence for calibration\n",
    "USB_BUFFER_SIZE = 2400000\n",
    "setMaxTimeStep(600) #set num samples to acquire\n",
    "setContinuousRunMode(false)\n",
    "mytime=zeros(Int32,2)\n",
    "usbBuffer = ones(Uint8,USB_BUFFER_SIZE)\n",
    "usbBuffer=convert(SharedArray{Uint8,1},usbBuffer);"
   ]
  },
  {
   "cell_type": "code",
   "execution_count": null,
   "metadata": {
    "collapsed": false
   },
   "outputs": [],
   "source": [
    "runBoard()"
   ]
  },
  {
   "cell_type": "code",
   "execution_count": null,
   "metadata": {
    "collapsed": false
   },
   "outputs": [],
   "source": [
    "usbDataRead=true\n",
    "\n",
    "runBoard()\n",
    "\n",
    "while (usbDataRead || isRunning())\n",
    "    #If Fifo contains words, they are read\n",
    "    @time usbDataRead = readDataBlocks(1,mytime,s,\"METHOD_SORTCAL\")  \n",
    "end\n",
    "\n",
    "flushBoard()"
   ]
  },
  {
   "cell_type": "code",
   "execution_count": null,
   "metadata": {
    "collapsed": true
   },
   "outputs": [],
   "source": [
    "setMaxTimeStep(20000) #set num samples to acquire\n",
    "\n",
    "#prepare output file\n",
    "saveOut=\"test.jld\"\n",
    "h5open(saveOut, \"w\") do myfile\n",
    "    d=d_create(myfile, \"time\", Int32, ((1,),(-1,)), \"chunk\", (100,))\n",
    "    d[1]=1\n",
    "    for i=1:64\n",
    "        e=d_create(myfile, string(i), Int64, ((1,),(-1,)),\"chunk\", (100,))\n",
    "        e=d_create(myfile, string(\"n\",i), Int64, ((1,),(-1,)),\"chunk\", (100,))\n",
    "    end\n",
    "end"
   ]
  },
  {
   "cell_type": "code",
   "execution_count": null,
   "metadata": {
    "collapsed": false,
    "scrolled": true
   },
   "outputs": [],
   "source": [
    "runBoard()\n",
    "\n",
    "while (usbDataRead || isRunning())\n",
    "    usbDataRead = readDataBlocks(1,mytime,s,\"METHOD_SORT\")\n",
    "    if (length(mytime) >= 3000)\n",
    "        queueToFile(mytime,s,saveOut)\n",
    "    end\n",
    "    \n",
    "end\n",
    "\n",
    "queueToFile(mytime,s,saveOut)\n",
    "\n",
    "flushBoard()"
   ]
  },
  {
   "cell_type": "code",
   "execution_count": null,
   "metadata": {
    "collapsed": false
   },
   "outputs": [],
   "source": [
    "#print the output of a set of time stamps to make sure they are not mistaken\n",
    "\n",
    "h5open(saveOut) do hi\n",
    "    e=d_open(hi, \"time\")\n",
    "    println(e[:])\n",
    "end"
   ]
  },
  {
   "cell_type": "code",
   "execution_count": null,
   "metadata": {
    "collapsed": true
   },
   "outputs": [],
   "source": []
  }
 ],
 "metadata": {
  "kernelspec": {
   "display_name": "Julia 0.4.1-pre",
   "language": "julia",
   "name": "julia-0.4"
  },
  "language_info": {
   "file_extension": ".jl",
   "mimetype": "application/julia",
   "name": "julia",
   "version": "0.4.1"
  }
 },
 "nbformat": 4,
 "nbformat_minor": 0
}
