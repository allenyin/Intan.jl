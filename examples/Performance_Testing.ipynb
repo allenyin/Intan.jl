{
 "cells": [
  {
   "cell_type": "code",
   "execution_count": null,
   "metadata": {
    "collapsed": true
   },
   "outputs": [],
   "source": [
    "using Intan, PyPlot"
   ]
  },
  {
   "cell_type": "code",
   "execution_count": null,
   "metadata": {
    "collapsed": true
   },
   "outputs": [],
   "source": [
    "#First create amplifier array:\n",
    "myamp=RHD2164(\"PortA1\")\n",
    "\n",
    "#Task\n",
    "mt=Task_TestTask()\n",
    "\n",
    "#Save\n",
    "mys=SaveNone()\n",
    "\n",
    "#Initialize evaluation board setup\n",
    "myrhd=makeRHD(myamp,\"single\",mt,sav=mys);"
   ]
  },
  {
   "cell_type": "code",
   "execution_count": null,
   "metadata": {
    "collapsed": true
   },
   "outputs": [],
   "source": [
    "handles = makegui(myrhd);"
   ]
  },
  {
   "cell_type": "code",
   "execution_count": null,
   "metadata": {
    "collapsed": true
   },
   "outputs": [],
   "source": [
    "function get_times(rhd,streams,samples,sr::Int64)\n",
    "    \n",
    "    myt=zeros(Float64,length(streams),length(samples))\n",
    "    mytest=zeros(Float64,5)\n",
    "    for s=1:length(streams)\n",
    "        for j=1:length(samples)\n",
    "            thebytes=(4+2(streams[s]*36)+8+2)*2*samples[j]\n",
    "            for k=1:length(mytest)\n",
    "                mytest[k]=@elapsed Intan.ReadFromPipeOut(rhd,Intan.PipeOutData,convert(Clong,thebytes),rhd.usbBuffer)   \n",
    "            end\n",
    "            myt[s,j]=mean(mytest)/(samples[j]/sr)\n",
    "        end\n",
    "    end\n",
    "    \n",
    "    myt.*100\n",
    "end"
   ]
  },
  {
   "cell_type": "code",
   "execution_count": null,
   "metadata": {
    "collapsed": true
   },
   "outputs": [],
   "source": [
    "mysamples=collect(50:50:600)\n",
    "sample_rate=20000\n",
    "mystreams=collect(1:16)\n",
    "t=get_times(myrhd,mystreams,mysamples,sample_rate);"
   ]
  },
  {
   "cell_type": "code",
   "execution_count": null,
   "metadata": {
    "collapsed": true
   },
   "outputs": [],
   "source": [
    "for i=1:size(t,1)\n",
    "    plot(mysamples./sample_rate.*1000,t[i,:]',color=\"blue\",alpha=i/20)\n",
    "end\n",
    "\n",
    "xlabel(\"Latency (ms)\")\n",
    "ylabel(\"% of processing window\")"
   ]
  },
  {
   "cell_type": "code",
   "execution_count": null,
   "metadata": {
    "collapsed": true
   },
   "outputs": [],
   "source": [
    "for i=1:size(t,2)\n",
    "    plot(collect(32:32:512),t[:,i],color=\"blue\", alpha=i/20)\n",
    "end\n",
    "xlabel(\"Number of channels\")\n",
    "ylabel(\"% of Processing Window\")"
   ]
  }
 ],
 "metadata": {
  "kernelspec": {
   "display_name": "Julia 0.4.4-pre",
   "language": "julia",
   "name": "julia-0.4"
  },
  "language_info": {
   "file_extension": ".jl",
   "mimetype": "application/julia",
   "name": "julia",
   "version": "0.4.5"
  }
 },
 "nbformat": 4,
 "nbformat_minor": 0
}
