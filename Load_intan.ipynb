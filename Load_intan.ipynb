{
 "cells": [
  {
   "cell_type": "code",
   "execution_count": 1,
   "metadata": {
    "collapsed": false
   },
   "outputs": [],
   "source": [
    "using rhd2000evalboard, HDF5, JLD"
   ]
  },
  {
   "cell_type": "code",
   "execution_count": 2,
   "metadata": {
    "collapsed": false,
    "scrolled": false
   },
   "outputs": [
    {
     "name": "stdout",
     "output_type": "stream",
     "text": [
      "Constructed\n",
      "Scanning USB for Opal Kelly devices...\n",
      "Found 1 Opal Kelly device(s)\n",
      "Serial number of device 0 is 141100085D\n"
     ]
    },
    {
     "data": {
      "text/plain": [
       "1"
      ]
     },
     "execution_count": 2,
     "metadata": {},
     "output_type": "execute_result"
    }
   ],
   "source": [
    "#Opal Kelly XEM6010 board\n",
    "x=open_board()"
   ]
  },
  {
   "cell_type": "code",
   "execution_count": 3,
   "metadata": {
    "collapsed": false
   },
   "outputs": [
    {
     "name": "stdout",
     "output_type": "stream",
     "text": [
      "FPGA configuration loaded.\n",
      "Rhythm configuration file successfully loaded. Rhythm version number: 1\n"
     ]
    }
   ],
   "source": [
    "# Load Rhythm FPGA configuration bitfile (provided by Intan Technologies).\n",
    "uploadFpgaBitfile();"
   ]
  },
  {
   "cell_type": "code",
   "execution_count": 4,
   "metadata": {
    "collapsed": false
   },
   "outputs": [
    {
     "data": {
      "text/plain": [
       "0"
      ]
     },
     "execution_count": 4,
     "metadata": {},
     "output_type": "execute_result"
    }
   ],
   "source": [
    "#Initialize board\n",
    "initialize_board()"
   ]
  },
  {
   "cell_type": "code",
   "execution_count": 15,
   "metadata": {
    "collapsed": false
   },
   "outputs": [
    {
     "name": "stdout",
     "output_type": "stream",
     "text": [
      "[1 0 0 0 1 0 0 0 0]\n"
     ]
    }
   ],
   "source": [
    "#For 64 channel I think you do this twice (not positive but we can test)\n",
    "enableDataStream(4, true)\n",
    "println(rhd2000evalboard.dataStreamEnabled)"
   ]
  },
  {
   "cell_type": "code",
   "execution_count": 6,
   "metadata": {
    "collapsed": false
   },
   "outputs": [],
   "source": [
    "#Select per-channel amplifier sampling rate\n",
    "setSampleRate(20000)"
   ]
  },
  {
   "cell_type": "code",
   "execution_count": 7,
   "metadata": {
    "collapsed": false
   },
   "outputs": [],
   "source": [
    "#Now that we have set our sampling rate, we can set the MISO sampling delay\n",
    "#which is dependent on the sample rate. We assume a 3-foot cable.\n",
    "setCableLengthFeet(\"PortA\", 3.0)"
   ]
  },
  {
   "cell_type": "code",
   "execution_count": 8,
   "metadata": {
    "collapsed": false
   },
   "outputs": [
    {
     "name": "stdout",
     "output_type": "stream",
     "text": [
      "1\n"
     ]
    }
   ],
   "source": [
    "# Let's turn one LED on to indicate that the program is running.\n",
    "ledArray=[1,0,0,0,0,0,0,0]\n",
    "setLedDisplay(ledArray)"
   ]
  },
  {
   "cell_type": "code",
   "execution_count": 17,
   "metadata": {
    "collapsed": false,
    "scrolled": true
   },
   "outputs": [
    {
     "name": "stdout",
     "output_type": "stream",
     "text": [
      "Number of 16-bit words in FIFO:5280\n"
     ]
    }
   ],
   "source": [
    "#short sequence\n",
    "setMaxTimeStep(60)\n",
    "setContinuousRunMode(false)\n",
    "run()\n",
    "while (isRunning())\n",
    "end\n",
    "println(\"Number of 16-bit words in FIFO:\", numWordsInFifo())\n",
    "flush()"
   ]
  },
  {
   "cell_type": "code",
   "execution_count": null,
   "metadata": {
    "collapsed": true
   },
   "outputs": [],
   "source": [
    "#continuously sample\n",
    "usbDataRead=true\n",
    "time=Array(Int32, 1)\n",
    "electrode=[i => 0 for i = 1:(numDataStreams*32)]\n",
    "saveOut=\"~/test.jld\"\n",
    "while (usbDataRead || isRunning())\n",
    "    #If Fifo contains words, they are read\n",
    "    usbDataRead = readDataBlocks(1,time,electrode)\n",
    "    if size(length(time) > = 3000)\n",
    "        time = queueToFile(time,electrode,saveOut)\n",
    "    end\n",
    "end\n",
    "flush()"
   ]
  }
 ],
 "metadata": {
  "kernelspec": {
   "display_name": "Julia 0.3.2",
   "language": "julia",
   "name": "julia-0.3"
  },
  "language_info": {
   "name": "julia",
   "version": "0.3.2"
  }
 },
 "nbformat": 4,
 "nbformat_minor": 0
}
