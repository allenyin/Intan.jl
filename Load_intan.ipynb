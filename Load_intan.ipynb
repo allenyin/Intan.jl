{
 "cells": [
  {
   "cell_type": "code",
   "execution_count": null,
   "metadata": {
    "collapsed": false
   },
   "outputs": [],
   "source": [
    "addprocs()\n",
    "using rhd2000evalboard, HDF5, rhd2000registers, SortSpikes, DistributedArrays, ExtractSpikes\n",
    "#pyqtgraph testing\n",
    "using PySide\n",
    "reload(Pkg.dir(\"PySide\", \"src\", \"pyqtgraph.jl\"))\n",
    "using PyQtGraph\n",
    "using PyCall"
   ]
  },
  {
   "cell_type": "code",
   "execution_count": null,
   "metadata": {
    "collapsed": true
   },
   "outputs": [],
   "source": [
    "#Create Window\n",
    "w = Widget()\n",
    "\n",
    "set_size(w, 800, 600)\n",
    "\n",
    "#shows window\n",
    "raise(w)\n",
    "# Graphics Layout Widget make grid of plot devices\n",
    "win = GraphicsLayoutWidget(w)\n",
    "lyt = GridLayout(w)\n",
    "addWidget(lyt, win)\n",
    "\n",
    "# addPlot adds a plot device in each grid element and returns a PyObject\n",
    "# PyQtGraph.GraphicsPlot object\n",
    "p = PyObject[win[:addPlot](i,j) for i=1:4, j=1:8];\n",
    "p = vec(p)\n",
    "\n",
    "#stores all of the curves that can be present on the plot\n",
    "#k dictates how many curves can be present at once\n",
    "#this needs to be shared to be accessed by multiple processes at once\n",
    "curve = PyObject[p[i][:plot](pen=\"y\") for i=1:32, k=1:10];\n",
    "for i=1:10, j=1:32\n",
    "    curve[j,i][:setData](convert(Array{Int64,1},rand(Uint16,50)))\n",
    "end\n",
    "\n",
    "## stop auto-scaling\n",
    "for i=1:32\n",
    "    p[i][:enableAutoRange](\"xy\", false) \n",
    "end\n",
    "\n",
    "for i=1:10, j=1:32\n",
    "    curve[j,i][:setData](ones(Int,50))\n",
    "end"
   ]
  },
  {
   "cell_type": "code",
   "execution_count": null,
   "metadata": {
    "collapsed": false,
    "scrolled": true
   },
   "outputs": [],
   "source": [
    "#Opal Kelly XEM6010 board\n",
    "open_board()\n",
    "\n",
    "# Load Rhythm FPGA configuration bitfile (provided by Intan Technologies).\n",
    "uploadFpgaBitfile();\n",
    "\n",
    "#Initialize board\n",
    "initialize_board()\n",
    "\n",
    "#For 64 channel need two data streams, and data will come in \n",
    "#on the rising AND falling edges of SCLK\n",
    "enableDataStream(1, true)\n",
    "setDataSource(0, 0) #port A MISO1\n",
    "setDataSource(1, 8) #port A MISO1 DDR\n",
    "println(rhd2000evalboard.dataStreamEnabled)\n",
    "println(rhd2000evalboard.numDataStreams)\n",
    "\n",
    "#Select per-channel amplifier sampling rate\n",
    "setSampleRate(20000)\n",
    "\n",
    "#Now that we have set our sampling rate, we can set the MISO sampling delay\n",
    "#which is dependent on the sample rate. We use a 6.0 foot cable\n",
    "setCableLengthFeet(\"PortA\", 6.0)\n",
    "\n",
    "# Let's turn one LED on to indicate that the program is running.\n",
    "ledArray=[1,1,0,0,0,0,0,0]\n",
    "setLedDisplay(ledArray)"
   ]
  },
  {
   "cell_type": "code",
   "execution_count": null,
   "metadata": {
    "collapsed": false
   },
   "outputs": [],
   "source": [
    "#Set up an RHD2000 register object using this sample rate \n",
    "#to optimize MUX-related register settings.\n",
    "r=CreateRHD2000Registers(20000.0)\n",
    "\n",
    "#First, let's create a command list for the AuxCmd1 slot.  This command\n",
    "#sequence will create a 1 kHz, full-scale sine wave for impedance testing.\n",
    "\n",
    "#Next, we'll create a command list for the AuxCmd2 slot.  This command sequence\n",
    "#will sample the temperature sensor and other auxiliary ADC inputs.\n",
    "\n",
    "#For the AuxCmd3 slot, we will create two command sequences.  Both sequences\n",
    "#will configure and read back the RHD2000 chip registers, but one sequence will\n",
    "#also run ADC calibration.\n",
    "\n",
    "#Before generating register configuration command sequences, set amplifier\n",
    "#bandwidth paramters.\n",
    "\n",
    "\n",
    "#Upload version with no ADC calibration to AuxCmd3 RAM Bank 0.\n",
    "commandList=createCommandListRegisterConfig(zeros(Int32,1),false,r)\n",
    "uploadCommandList(commandList, \"AuxCmd3\", 0)\n",
    "\n",
    "#Upload version with ADC calibration to AuxCmd3 RAM Bank 1.\n",
    "commandList=createCommandListRegisterConfig(zeros(Int32,1),true,r)\n",
    "uploadCommandList(commandList, \"AuxCmd3\", 1)\n",
    "\n",
    "selectAuxCommandLength(\"AuxCmd3\", 0, length(commandList) - 1)\n",
    "\n",
    "#Select RAM Bank 1 for AuxCmd3 initially, so the ADC is calibrated.\n",
    "selectAuxCommandBank(\"PortA\", \"AuxCmd3\", 1);\n",
    "\n",
    "setMaxTimeStep(600)\n",
    "setContinuousRunMode(false)\n",
    "runBoard()\n",
    "\n",
    "while (isRunning())\n",
    "end\n",
    "\n",
    "flushBoard()\n",
    "\n",
    "selectAuxCommandBank(\"PortA\", \"AuxCmd3\", 0)"
   ]
  },
  {
   "cell_type": "code",
   "execution_count": null,
   "metadata": {
    "collapsed": false
   },
   "outputs": [],
   "source": [
    "#Create data type to be filled\n",
    "st=Array(Sorting,64)\n",
    "for i=1:64\n",
    "    st[i]=Sorting(SpikeDetection(),Cluster(),zeros(Int64,600),zeros(Int,500),zeros(Int,500),2,[convert(SharedArray,zeros(Int64,50)) for j=1:10])\n",
    "end\n",
    "s=distribute(st);\n",
    "\n",
    "#Create shared array pointed to by GUI and the corresponding channels\n",
    "waves=[convert(SharedArray,ones(Int64,50)) for i=1:32, j=1:10]\n",
    "\n",
    "for i=1:32\n",
    "    for j=1:10\n",
    "        #curve[i,j][:yData]=waves[i,j]\n",
    "        curve[i,j][:yDisp]=waves[i,j]\n",
    "        #curve[i,j][:curve][:yData]=waves[i,j]\n",
    "    end\n",
    "end\n",
    "\n",
    "@parallel for i=1:32\n",
    "    for j=1:10\n",
    "        s[i].waveforms[j]=waves[i,j]\n",
    "    end\n",
    "end"
   ]
  },
  {
   "cell_type": "code",
   "execution_count": null,
   "metadata": {
    "collapsed": false
   },
   "outputs": [],
   "source": [
    "#1 second sequence for calibration\n",
    "USB_BUFFER_SIZE = 2400000\n",
    "setMaxTimeStep(600) #set num samples to acquire\n",
    "setContinuousRunMode(false)\n",
    "mytime=zeros(Int32,2)\n",
    "usbBuffer = ones(Uint8,USB_BUFFER_SIZE)\n",
    "usbBuffer=convert(SharedArray{Uint8,1},usbBuffer);"
   ]
  },
  {
   "cell_type": "code",
   "execution_count": null,
   "metadata": {
    "collapsed": false
   },
   "outputs": [],
   "source": [
    "runBoard()"
   ]
  },
  {
   "cell_type": "code",
   "execution_count": null,
   "metadata": {
    "collapsed": false
   },
   "outputs": [],
   "source": [
    "usbDataRead=true\n",
    "\n",
    "runBoard()\n",
    "\n",
    "while (usbDataRead || isRunning())\n",
    "    #If Fifo contains words, they are read\n",
    "    @time usbDataRead = readDataBlocks(1,mytime,s,\"METHOD_SORTCAL\")  \n",
    "end\n",
    "\n",
    "flushBoard()"
   ]
  },
  {
   "cell_type": "code",
   "execution_count": null,
   "metadata": {
    "collapsed": true
   },
   "outputs": [],
   "source": [
    "setMaxTimeStep(20000) #set num samples to acquire\n",
    "\n",
    "#prepare output file\n",
    "saveOut=\"test.jld\"\n",
    "h5open(saveOut, \"w\") do myfile\n",
    "    d=d_create(myfile, \"time\", Int32, ((1,),(-1,)), \"chunk\", (100,))\n",
    "    d[1]=1\n",
    "    for i=1:64\n",
    "        e=d_create(myfile, string(i), Int64, ((1,),(-1,)),\"chunk\", (100,))\n",
    "        e=d_create(myfile, string(\"n\",i), Int64, ((1,),(-1,)),\"chunk\", (100,))\n",
    "    end\n",
    "end"
   ]
  },
  {
   "cell_type": "code",
   "execution_count": null,
   "metadata": {
    "collapsed": false,
    "scrolled": true
   },
   "outputs": [],
   "source": [
    "runBoard()\n",
    "\n",
    "while (usbDataRead || isRunning())\n",
    "    usbDataRead = readDataBlocks(1,mytime,s,\"METHOD_SORT\")\n",
    "    if (length(mytime) >= 3000)\n",
    "        queueToFile(mytime,s,saveOut)\n",
    "    end\n",
    "    \n",
    "end\n",
    "\n",
    "queueToFile(mytime,s,saveOut)\n",
    "\n",
    "flushBoard()"
   ]
  },
  {
   "cell_type": "code",
   "execution_count": null,
   "metadata": {
    "collapsed": false
   },
   "outputs": [],
   "source": [
    "#print the output of a set of time stamps to make sure they are not mistaken\n",
    "\n",
    "h5open(saveOut) do hi\n",
    "    e=d_open(hi, \"time\")\n",
    "    println(e[:])\n",
    "end"
   ]
  },
  {
   "cell_type": "code",
   "execution_count": null,
   "metadata": {
    "collapsed": true
   },
   "outputs": [],
   "source": []
  }
 ],
 "metadata": {
  "kernelspec": {
   "display_name": "Julia 0.4.0-dev",
   "language": "julia",
   "name": "julia-0.4"
  },
  "language_info": {
   "name": "julia",
   "version": "0.4.0"
  }
 },
 "nbformat": 4,
 "nbformat_minor": 0
}
