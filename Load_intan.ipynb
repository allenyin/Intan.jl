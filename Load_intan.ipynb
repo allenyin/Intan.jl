{
 "cells": [
  {
   "cell_type": "code",
   "execution_count": 1,
   "metadata": {
    "collapsed": false
   },
   "outputs": [],
   "source": [
    "using rhd2000evalboard, HDF5, JLD"
   ]
  },
  {
   "cell_type": "code",
   "execution_count": 2,
   "metadata": {
    "collapsed": false,
    "scrolled": false
   },
   "outputs": [
    {
     "name": "stdout",
     "output_type": "stream",
     "text": [
      "Constructed\n",
      "Scanning USB for Opal Kelly devices...\n",
      "Found 1 Opal Kelly device(s)\n",
      "Serial number of device 0 is 141100085D\n",
      "FPGA configuration loaded.\n",
      "Rhythm configuration file successfully loaded. Rhythm version number: 1\n",
      "[1 0 0 0 1 0 0 0 0]\n"
     ]
    }
   ],
   "source": [
    "#Opal Kelly XEM6010 board\n",
    "x=open_board()\n",
    "\n",
    "# Load Rhythm FPGA configuration bitfile (provided by Intan Technologies).\n",
    "uploadFpgaBitfile();\n",
    "\n",
    "#Initialize board\n",
    "initialize_board()\n",
    "\n",
    "#For 64 channel I think you do this twice (not positive but we can test)\n",
    "enableDataStream(4, true)\n",
    "println(rhd2000evalboard.dataStreamEnabled)\n",
    "\n",
    "#Select per-channel amplifier sampling rate\n",
    "setSampleRate(20000)\n",
    "\n",
    "#Now that we have set our sampling rate, we can set the MISO sampling delay\n",
    "#which is dependent on the sample rate. We assume a 3-foot cable.\n",
    "setCableLengthFeet(\"PortA\", 3.0)"
   ]
  },
  {
   "cell_type": "code",
   "execution_count": 3,
   "metadata": {
    "collapsed": false
   },
   "outputs": [
    {
     "name": "stdout",
     "output_type": "stream",
     "text": [
      "1\n"
     ]
    }
   ],
   "source": [
    "# Let's turn one LED on to indicate that the program is running.\n",
    "ledArray=[1,0,0,0,0,0,0,0]\n",
    "setLedDisplay(ledArray)"
   ]
  },
  {
   "cell_type": "code",
   "execution_count": 6,
   "metadata": {
    "collapsed": false,
    "scrolled": true
   },
   "outputs": [
    {
     "name": "stdout",
     "output_type": "stream",
     "text": [
      "hi\n",
      "hi\n",
      "hi\n",
      "hi\n",
      "hi\n",
      "hi\n",
      "hi\n",
      "hi\n",
      "hi\n",
      "hi\n"
     ]
    }
   ],
   "source": [
    "#short sequence\n",
    "setMaxTimeStep(600)\n",
    "setContinuousRunMode(false)\n",
    "time=zeros(Int32,2)\n",
    "electrode=[i => zeros(Int32,2) for i = 1:(2*32)]\n",
    "usbDataRead=true\n",
    "saveOut=\"test.jld\"\n",
    "run()\n",
    "\n",
    "while (usbDataRead || isRunning())\n",
    "    #If Fifo contains words, they are read\n",
    "    usbDataRead = readDataBlocks(1,time,electrode)\n",
    "    if (length(time) >= 300)\n",
    "        time = queueToFile(time,electrode,saveOut)\n",
    "    end\n",
    "end\n",
    "flush()"
   ]
  },
  {
   "cell_type": "code",
   "execution_count": 12,
   "metadata": {
    "collapsed": false
   },
   "outputs": [
    {
     "data": {
      "text/plain": [
       "301-element Array{Int32,1}:\n",
       "   0\n",
       " 300\n",
       " 301\n",
       " 302\n",
       " 303\n",
       " 304\n",
       " 305\n",
       " 306\n",
       " 307\n",
       " 308\n",
       " 309\n",
       " 310\n",
       " 311\n",
       "   ⋮\n",
       " 588\n",
       " 589\n",
       " 590\n",
       " 591\n",
       " 592\n",
       " 593\n",
       " 594\n",
       " 595\n",
       " 596\n",
       " 597\n",
       " 598\n",
       " 599"
      ]
     },
     "execution_count": 12,
     "metadata": {},
     "output_type": "execute_result"
    }
   ],
   "source": [
    "hi=jldopen(saveOut)\n",
    "mytime=read(hi, \"time\")"
   ]
  },
  {
   "cell_type": "code",
   "execution_count": null,
   "metadata": {
    "collapsed": true
   },
   "outputs": [],
   "source": []
  }
 ],
 "metadata": {
  "kernelspec": {
   "display_name": "Julia 0.3.2",
   "language": "julia",
   "name": "julia-0.3"
  },
  "language_info": {
   "name": "julia",
   "version": "0.3.2"
  }
 },
 "nbformat": 4,
 "nbformat_minor": 0
}
