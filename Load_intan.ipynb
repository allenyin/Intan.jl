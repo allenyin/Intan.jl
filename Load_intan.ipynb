{
 "cells": [
  {
   "cell_type": "code",
   "execution_count": null,
   "metadata": {
    "collapsed": false
   },
   "outputs": [],
   "source": [
    "push!(LOAD_PATH, \"/home/nicolelislab/SpikeSorting.jl/\")"
   ]
  },
  {
   "cell_type": "code",
   "execution_count": null,
   "metadata": {
    "collapsed": false
   },
   "outputs": [],
   "source": [
    "#addprocs()\n",
    "using rhd2000evalboard, HDF5, rhd2000registers, SortSpikes, DistributedArrays, ExtractSpikes"
   ]
  },
  {
   "cell_type": "code",
   "execution_count": null,
   "metadata": {
    "collapsed": false,
    "scrolled": true
   },
   "outputs": [],
   "source": [
    "#Opal Kelly XEM6010 board\n",
    "open_board()\n",
    "\n",
    "# Load Rhythm FPGA configuration bitfile (provided by Intan Technologies).\n",
    "uploadFpgaBitfile();\n",
    "\n",
    "#Initialize board\n",
    "initialize_board()\n",
    "\n",
    "#For 64 channel need two data streams, and data will come in \n",
    "#on the rising AND falling edges of SCLK\n",
    "enableDataStream(1, true)\n",
    "setDataSource(0, 0) #port A MISO1\n",
    "setDataSource(1, 8) #port A MISO1 DDR\n",
    "println(rhd2000evalboard.dataStreamEnabled)\n",
    "println(rhd2000evalboard.numDataStreams)\n",
    "\n",
    "#Select per-channel amplifier sampling rate\n",
    "setSampleRate(20000)\n",
    "\n",
    "#Now that we have set our sampling rate, we can set the MISO sampling delay\n",
    "#which is dependent on the sample rate. We use a 6.0 foot cable\n",
    "setCableLengthFeet(\"PortA\", 6.0)\n",
    "\n",
    "# Let's turn one LED on to indicate that the program is running.\n",
    "ledArray=[1,1,0,0,0,0,0,0]\n",
    "setLedDisplay(ledArray)"
   ]
  },
  {
   "cell_type": "code",
   "execution_count": null,
   "metadata": {
    "collapsed": false
   },
   "outputs": [],
   "source": [
    "#Set up an RHD2000 register object using this sample rate \n",
    "#to optimize MUX-related register settings.\n",
    "r=CreateRHD2000Registers(20000.0)\n",
    "\n",
    "#First, let's create a command list for the AuxCmd1 slot.  This command\n",
    "#sequence will create a 1 kHz, full-scale sine wave for impedance testing.\n",
    "\n",
    "#Next, we'll create a command list for the AuxCmd2 slot.  This command sequence\n",
    "#will sample the temperature sensor and other auxiliary ADC inputs.\n",
    "\n",
    "#For the AuxCmd3 slot, we will create two command sequences.  Both sequences\n",
    "#will configure and read back the RHD2000 chip registers, but one sequence will\n",
    "#also run ADC calibration.\n",
    "\n",
    "#Before generating register configuration command sequences, set amplifier\n",
    "#bandwidth paramters.\n",
    "\n",
    "\n",
    "#Upload version with no ADC calibration to AuxCmd3 RAM Bank 0.\n",
    "commandList=createCommandListRegisterConfig(zeros(Int32,1),false,r)\n",
    "uploadCommandList(commandList, \"AuxCmd3\", 0)\n",
    "\n",
    "#Upload version with ADC calibration to AuxCmd3 RAM Bank 1.\n",
    "commandList=createCommandListRegisterConfig(zeros(Int32,1),true,r)\n",
    "uploadCommandList(commandList, \"AuxCmd3\", 1)\n",
    "\n",
    "selectAuxCommandLength(\"AuxCmd3\", 0, length(commandList) - 1)\n",
    "\n",
    "#Select RAM Bank 1 for AuxCmd3 initially, so the ADC is calibrated.\n",
    "selectAuxCommandBank(\"PortA\", \"AuxCmd3\", 1);\n",
    "\n",
    "setMaxTimeStep(60)\n",
    "setContinuousRunMode(false)\n",
    "runBoard()\n",
    "\n",
    "while (isRunning())\n",
    "end\n",
    "\n",
    "flushBoard()\n",
    "\n",
    "selectAuxCommandBank(\"PortA\", \"AuxCmd3\", 0)"
   ]
  },
  {
   "cell_type": "code",
   "execution_count": null,
   "metadata": {
    "collapsed": true
   },
   "outputs": [],
   "source": [
    "#1 second sequence for calibration\n",
    "setMaxTimeStep(600) #set num samples to acquire\n",
    "setContinuousRunMode(false)\n",
    "mytime=zeros(Int32,2)\n",
    "st=Array(Sorting,64)\n",
    "for i=1:64\n",
    "    st[i]=Sorting(SpikeDetection(),Cluster(),zeros(Int64,600),zeros(Int,500),zeros(Int,500),2,zeros(Int,50,100))\n",
    "end\n",
    "s=distribute(st);"
   ]
  },
  {
   "cell_type": "code",
   "execution_count": null,
   "metadata": {
    "collapsed": false
   },
   "outputs": [],
   "source": [
    "usbDataRead=true\n",
    "\n",
    "runBoard()\n",
    "\n",
    "while (usbDataRead || isRunning())\n",
    "    #If Fifo contains words, they are read\n",
    "    usbDataRead = readDataBlocks(1,mytime,s,\"METHOD_SORTCAL\")  \n",
    "end\n",
    "\n",
    "flushBoard()"
   ]
  },
  {
   "cell_type": "code",
   "execution_count": null,
   "metadata": {
    "collapsed": true
   },
   "outputs": [],
   "source": [
    "setMaxTimeStep(600) #set num samples to acquire\n",
    "\n",
    "#prepare output file\n",
    "saveOut=\"test.jld\"\n",
    "h5open(saveOut, \"w\") do myfile\n",
    "    d=d_create(myfile, \"time\", Int32, ((1,),(-1,)), \"chunk\", (100,))\n",
    "    d[1]=1\n",
    "    for i=1:64\n",
    "        e=d_create(myfile, string(i), Int64, ((1,),(-1,)),\"chunk\", (100,))\n",
    "        e=d_create(myfile, string(\"n\",i), Int64, ((1,),(-1,)),\"chunk\", (100,))\n",
    "    end\n",
    "end"
   ]
  },
  {
   "cell_type": "code",
   "execution_count": null,
   "metadata": {
    "collapsed": false
   },
   "outputs": [],
   "source": [
    "runBoard()\n",
    "\n",
    "while (usbDataRead || isRunning())\n",
    "    usbDataRead = readDataBlocks(1,mytime,s,\"METHOD_SORT\")\n",
    "    if (length(mytime) >= 3000)\n",
    "        queueToFile(mytime,s,saveOut)\n",
    "    end\n",
    "    \n",
    "end\n",
    "\n",
    "queueToFile(mytime,s,saveOut)\n",
    "\n",
    "flushBoard()"
   ]
  },
  {
   "cell_type": "code",
   "execution_count": null,
   "metadata": {
    "collapsed": false
   },
   "outputs": [],
   "source": [
    "#print the output of a set of time stamps to make sure they are not mistaken\n",
    "\n",
    "h5open(saveOut) do hi\n",
    "    e=d_open(hi, \"time\")\n",
    "    println(e[:])\n",
    "end"
   ]
  },
  {
   "cell_type": "code",
   "execution_count": null,
   "metadata": {
    "collapsed": true
   },
   "outputs": [],
   "source": []
  }
 ],
 "metadata": {
  "kernelspec": {
   "display_name": "Julia 0.4.0-dev",
   "language": "julia",
   "name": "julia-0.4"
  },
  "language_info": {
   "name": "julia",
   "version": "0.4.0"
  }
 },
 "nbformat": 4,
 "nbformat_minor": 0
}
