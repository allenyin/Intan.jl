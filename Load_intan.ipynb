{
 "cells": [
  {
   "cell_type": "code",
   "execution_count": 1,
   "metadata": {
    "collapsed": false
   },
   "outputs": [],
   "source": [
    "using rhd2000evalboard"
   ]
  },
  {
   "cell_type": "code",
   "execution_count": 1,
   "metadata": {
    "collapsed": false,
    "scrolled": true
   },
   "outputs": [
    {
     "data": {
      "text/plain": [
       "\"/home/nicolelislab/neural-analysis-toolbox/DataAcq/libokFrontPanel.so\""
      ]
     },
     "execution_count": 1,
     "metadata": {},
     "output_type": "execute_result"
    }
   ],
   "source": [
    "const mylib=\"/home/nicolelislab/neural-analysis-toolbox/DataAcq/libokFrontPanel.so\""
   ]
  },
  {
   "cell_type": "code",
   "execution_count": 2,
   "metadata": {
    "collapsed": false,
    "scrolled": true
   },
   "outputs": [
    {
     "name": "stdout",
     "output_type": "stream",
     "text": [
      "Constructed\n",
      "Found 1 Opal Kelly device(s)\n",
      "Serial number is 141100085D\n"
     ]
    },
    {
     "data": {
      "text/plain": [
       "Ptr{Void} @0x00000000040947b0"
      ]
     },
     "execution_count": 2,
     "metadata": {},
     "output_type": "execute_result"
    }
   ],
   "source": [
    "#Opal Kelly XEM6010 board\n",
    "x=open_board()"
   ]
  },
  {
   "cell_type": "code",
   "execution_count": 3,
   "metadata": {
    "collapsed": false
   },
   "outputs": [
    {
     "name": "stdout",
     "output_type": "stream",
     "text": [
      "0\n"
     ]
    }
   ],
   "source": [
    "# Load Rhythm FPGA configuration bitfile (provided by Intan Technologies).\n",
    "uploadFpgaBitfile();"
   ]
  },
  {
   "cell_type": "code",
   "execution_count": 4,
   "metadata": {
    "collapsed": false
   },
   "outputs": [
    {
     "ename": "LoadError",
     "evalue": "type cannot be constructed\nwhile loading In[4], in expression starting on line 2",
     "output_type": "error",
     "traceback": [
      "type cannot be constructed\nwhile loading In[4], in expression starting on line 2",
      "",
      " in setCableLengthMeters at /home/nicolelislab/neural-analysis-toolbox/DataAcq/rhd2000evalboard.jl:447",
      " in initialize_board at /home/nicolelislab/neural-analysis-toolbox/DataAcq/rhd2000evalboard.jl:172"
     ]
    }
   ],
   "source": [
    "#Initialize board\n",
    "initialize_board()"
   ]
  },
  {
   "cell_type": "code",
   "execution_count": 3,
   "metadata": {
    "collapsed": false
   },
   "outputs": [
    {
     "name": "stdout",
     "output_type": "stream",
     "text": [
      "Found 0 Opal Kelly device(s)\n"
     ]
    }
   ],
   "source": [
    "setDataSource(0,0)"
   ]
  },
  {
   "cell_type": "code",
   "execution_count": 3,
   "metadata": {
    "collapsed": false
   },
   "outputs": [
    {
     "data": {
      "text/plain": [
       "\"PortA\""
      ]
     },
     "execution_count": 3,
     "metadata": {},
     "output_type": "execute_result"
    }
   ],
   "source": [
    "#Select per-channel amplifier sampling rate\n",
    "setSampleRate(20000)"
   ]
  },
  {
   "cell_type": "code",
   "execution_count": 4,
   "metadata": {
    "collapsed": false
   },
   "outputs": [
    {
     "data": {
      "text/plain": [
       "true"
      ]
     },
     "execution_count": 4,
     "metadata": {},
     "output_type": "execute_result"
    }
   ],
   "source": [
    "#Now that we have set our sampling rate, we can set the MISO sampling delay\n",
    "#which is dependent on the sample rate. We assume a 3-foot cable.\n",
    "setCableLengthFeet(\"PortA\", 3.0)"
   ]
  },
  {
   "cell_type": "code",
   "execution_count": 1,
   "metadata": {
    "collapsed": false
   },
   "outputs": [
    {
     "ename": "LoadError",
     "evalue": "setLedDisplay not defined\nwhile loading In[1], in expression starting on line 3",
     "output_type": "error",
     "traceback": [
      "setLedDisplay not defined\nwhile loading In[1], in expression starting on line 3",
      ""
     ]
    }
   ],
   "source": [
    "# Let's turn one LED on to indicate that the program is running.\n",
    "ledArray=[1,0,0,0,0,0,0,0]\n",
    "setLedDisplay(ledArray)"
   ]
  },
  {
   "cell_type": "code",
   "execution_count": 2,
   "metadata": {
    "collapsed": true
   },
   "outputs": [],
   "source": [
    "#Set up RHD2000 register object using this sample rate to optimize MUX-\n",
    "#related register settings"
   ]
  },
  {
   "cell_type": "code",
   "execution_count": null,
   "metadata": {
    "collapsed": true
   },
   "outputs": [],
   "source": [
    "#Set to run continuously\n",
    "setContinuousRunMode(true)\n",
    "run()"
   ]
  },
  {
   "cell_type": "code",
   "execution_count": null,
   "metadata": {
    "collapsed": true
   },
   "outputs": [],
   "source": [
    "#continuously sample\n",
    "usbDataRead=true\n",
    "while (usbDataRead || isRunning())\n",
    "    #If Fifo contains words, they are read\n",
    "    usbDataRead = readDataBlocks(1,dataQueue)\n",
    "    if size(dataQueue.size() > = 50)\n",
    "        queueToFile(dataQueue,saveOut)\n",
    "    end\n",
    "end\n",
    "\n",
    "queueToFile(dataQueue,saveOut)\n",
    "\n",
    "flush()"
   ]
  }
 ],
 "metadata": {
  "kernelspec": {
   "display_name": "Julia 0.3.2",
   "language": "julia",
   "name": "julia-0.3"
  },
  "language_info": {
   "name": "julia",
   "version": "0.3.2"
  }
 },
 "nbformat": 4,
 "nbformat_minor": 0
}
