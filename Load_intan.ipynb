{
 "cells": [
  {
   "cell_type": "code",
   "execution_count": 2,
   "metadata": {
    "collapsed": false
   },
   "outputs": [],
   "source": [
    "using rhd2000evalboard"
   ]
  },
  {
   "cell_type": "code",
   "execution_count": 3,
   "metadata": {
    "collapsed": false,
    "scrolled": true
   },
   "outputs": [
    {
     "name": "stdout",
     "output_type": "stream",
     "text": [
      "Constructed\n",
      "Scanning USB for Opal Kelly devices...\n",
      "Found 1 Opal Kelly device(s)\n",
      "Serial number of device 0 is 141100085D\n"
     ]
    },
    {
     "data": {
      "text/plain": [
       "1"
      ]
     },
     "execution_count": 3,
     "metadata": {},
     "output_type": "execute_result"
    }
   ],
   "source": [
    "#Opal Kelly XEM6010 board\n",
    "x=open_board()"
   ]
  },
  {
   "cell_type": "code",
   "execution_count": 3,
   "metadata": {
    "collapsed": false
   },
   "outputs": [
    {
     "name": "stdout",
     "output_type": "stream",
     "text": [
      "FPGA configuration loaded.\n",
      "Rhythm configuration file successfully loaded. Rhythm version number: 1\n"
     ]
    }
   ],
   "source": [
    "# Load Rhythm FPGA configuration bitfile (provided by Intan Technologies).\n",
    "uploadFpgaBitfile();"
   ]
  },
  {
   "cell_type": "code",
   "execution_count": 4,
   "metadata": {
    "collapsed": false
   },
   "outputs": [
    {
     "data": {
      "text/plain": [
       "0"
      ]
     },
     "execution_count": 4,
     "metadata": {},
     "output_type": "execute_result"
    }
   ],
   "source": [
    "#Initialize board\n",
    "initialize_board()"
   ]
  },
  {
   "cell_type": "code",
   "execution_count": 5,
   "metadata": {
    "collapsed": false
   },
   "outputs": [],
   "source": [
    "setDataSource(0,0)"
   ]
  },
  {
   "cell_type": "code",
   "execution_count": 6,
   "metadata": {
    "collapsed": false
   },
   "outputs": [],
   "source": [
    "#Select per-channel amplifier sampling rate\n",
    "setSampleRate(20000)"
   ]
  },
  {
   "cell_type": "code",
   "execution_count": 7,
   "metadata": {
    "collapsed": false
   },
   "outputs": [],
   "source": [
    "#Now that we have set our sampling rate, we can set the MISO sampling delay\n",
    "#which is dependent on the sample rate. We assume a 3-foot cable.\n",
    "setCableLengthFeet(\"PortA\", 3.0)"
   ]
  },
  {
   "cell_type": "code",
   "execution_count": 8,
   "metadata": {
    "collapsed": false
   },
   "outputs": [
    {
     "name": "stdout",
     "output_type": "stream",
     "text": [
      "1\n"
     ]
    }
   ],
   "source": [
    "# Let's turn one LED on to indicate that the program is running.\n",
    "ledArray=[1,0,0,0,0,0,0,0]\n",
    "setLedDisplay(ledArray)"
   ]
  },
  {
   "cell_type": "code",
   "execution_count": 14,
   "metadata": {
    "collapsed": false
   },
   "outputs": [
    {
     "data": {
      "text/plain": [
       "4-element BitArray{1}:\n",
       " true\n",
       " true\n",
       " true\n",
       " true"
      ]
     },
     "execution_count": 14,
     "metadata": {},
     "output_type": "execute_result"
    }
   ],
   "source": [
    "#Set up RHD2000 register object using this sample rate to optimize MUX-\n",
    "#related register se"
   ]
  },
  {
   "cell_type": "code",
   "execution_count": 8,
   "metadata": {
    "collapsed": false
   },
   "outputs": [],
   "source": [
    "type me\n",
    "    t::Array{Int}\n",
    "end"
   ]
  },
  {
   "cell_type": "code",
   "execution_count": 9,
   "metadata": {
    "collapsed": false
   },
   "outputs": [
    {
     "ename": "LoadError",
     "evalue": "`convert` has no method matching convert(::Type{Array{Int64,N}}, ::Int64)\nwhile loading In[9], in expression starting on line 1",
     "output_type": "error",
     "traceback": [
      "`convert` has no method matching convert(::Type{Array{Int64,N}}, ::Int64)\nwhile loading In[9], in expression starting on line 1",
      "",
      " in me at ./no file"
     ]
    }
   ],
   "source": [
    "me(4)"
   ]
  },
  {
   "cell_type": "code",
   "execution_count": 9,
   "metadata": {
    "collapsed": false,
    "scrolled": true
   },
   "outputs": [
    {
     "name": "stdout",
     "output_type": "stream",
     "text": [
      "Number of 16-bit words in FIFO:3120\n"
     ]
    },
    {
     "ename": "LoadError",
     "evalue": "`isless` has no method matching isless(::Int64, ::Array{Uint8,1})\nwhile loading In[9], in expression starting on line 8",
     "output_type": "error",
     "traceback": [
      "`isless` has no method matching isless(::Int64, ::Array{Uint8,1})\nwhile loading In[9], in expression starting on line 8",
      "",
      " in < at ./operators.jl:32",
      " in flush at /home/nicolelislab/neural-analysis-toolbox/DataAcq/rhd2000evalboard.jl:801"
     ]
    }
   ],
   "source": [
    "#short sequence\n",
    "setMaxTimeStep(60)\n",
    "setContinuousRunMode(false)\n",
    "run()\n",
    "while (isRunning())\n",
    "end\n",
    "println(\"Number of 16-bit words in FIFO:\", numWordsInFifo())\n",
    "flush()"
   ]
  },
  {
   "cell_type": "code",
   "execution_count": null,
   "metadata": {
    "collapsed": true
   },
   "outputs": [],
   "source": [
    "#continuously sample\n",
    "usbDataRead=true\n",
    "while (usbDataRead || isRunning())\n",
    "    #If Fifo contains words, they are read\n",
    "    usbDataRead = readDataBlocks(1,dataQueue)\n",
    "    if size(dataQueue.size() > = 50)\n",
    "        queueToFile(dataQueue,saveOut)\n",
    "    end\n",
    "end\n",
    "\n",
    "queueToFile(dataQueue,saveOut)\n",
    "\n",
    "flush()"
   ]
  }
 ],
 "metadata": {
  "kernelspec": {
   "display_name": "Julia 0.3.2",
   "language": "julia",
   "name": "julia-0.3"
  },
  "language_info": {
   "name": "julia",
   "version": "0.3.2"
  }
 },
 "nbformat": 4,
 "nbformat_minor": 0
}
