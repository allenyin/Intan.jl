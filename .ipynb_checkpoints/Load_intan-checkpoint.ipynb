{
 "cells": [
  {
   "cell_type": "code",
   "execution_count": 1,
   "metadata": {
    "collapsed": false
   },
   "outputs": [],
   "source": [
    "using rhd2000evalboard, HDF5, rhd2000registers"
   ]
  },
  {
   "cell_type": "code",
   "execution_count": 2,
   "metadata": {
    "collapsed": false,
    "scrolled": true
   },
   "outputs": [
    {
     "name": "stdout",
     "output_type": "stream",
     "text": [
      "Scanning USB for Opal Kelly devices...\n",
      "Found 1 Opal Kelly device(s)\n",
      "Serial number of device 0 is 141100085D\n",
      "FPGA configuration loaded.\n",
      "Rhythm configuration file successfully loaded. Rhythm version number: 1\n",
      "[1 1 0 0 0 0 0 0]\n",
      "2\n",
      "3\n"
     ]
    }
   ],
   "source": [
    "#Opal Kelly XEM6010 board\n",
    "open_board()\n",
    "\n",
    "# Load Rhythm FPGA configuration bitfile (provided by Intan Technologies).\n",
    "uploadFpgaBitfile();\n",
    "\n",
    "#Initialize board\n",
    "initialize_board()\n",
    "\n",
    "#For 64 channel I think you do this twice (not positive but we can test)\n",
    "enableDataStream(1, true)\n",
    "setDataSource(0, 0) #port A MISO1\n",
    "setDataSource(1, 8) #port A MISO1 DDR\n",
    "println(rhd2000evalboard.dataStreamEnabled)\n",
    "println(rhd2000evalboard.numDataStreams)\n",
    "\n",
    "#Select per-channel amplifier sampling rate\n",
    "setSampleRate(20000)\n",
    "\n",
    "#Now that we have set our sampling rate, we can set the MISO sampling delay\n",
    "#which is dependent on the sample rate. We assume a 3-foot cable.\n",
    "setCableLengthFeet(\"PortA\", 6.0)\n",
    "\n",
    "# Let's turn one LED on to indicate that the program is running.\n",
    "ledArray=[1,1,0,0,0,0,0,0]\n",
    "setLedDisplay(ledArray)"
   ]
  },
  {
   "cell_type": "code",
   "execution_count": 3,
   "metadata": {
    "collapsed": false
   },
   "outputs": [],
   "source": [
    "#Set up an RHD2000 register object using this sample rate \n",
    "#to optimize MUX-related register settings.\n",
    "r=CreateRHD2000Registers(20000.0)\n",
    "\n",
    "#First, let's create a command list for the AuxCmd1 slot.  This command\n",
    "#sequence will create a 1 kHz, full-scale sine wave for impedance testing.\n",
    "\n",
    "#Next, we'll create a command list for the AuxCmd2 slot.  This command sequence\n",
    "#will sample the temperature sensor and other auxiliary ADC inputs.\n",
    "\n",
    "#For the AuxCmd3 slot, we will create two command sequences.  Both sequences\n",
    "#will configure and read back the RHD2000 chip registers, but one sequence will\n",
    "#also run ADC calibration.\n",
    "\n",
    "#Before generating register configuration command sequences, set amplifier\n",
    "#bandwidth paramters.\n",
    "\n",
    "\n",
    "#Upload version with no ADC calibration to AuxCmd3 RAM Bank 0.\n",
    "commandList=createCommandListRegisterConfig(zeros(Int32,1),false,r)\n",
    "uploadCommandList(commandList, \"AuxCmd3\", 0)\n",
    "\n",
    "#Upload version with ADC calibration to AuxCmd3 RAM Bank 1.\n",
    "commandList=createCommandListRegisterConfig(zeros(Int32,1),true,r)\n",
    "uploadCommandList(commandList, \"AuxCmd3\", 1)\n",
    "\n",
    "selectAuxCommandLength(\"AuxCmd3\", 0, length(commandList) - 1)\n",
    "\n",
    "#Select RAM Bank 1 for AuxCmd3 initially, so the ADC is calibrated.\n",
    "selectAuxCommandBank(\"PortA\", \"AuxCmd3\", 1);\n",
    "\n",
    "setMaxTimeStep(60)\n",
    "setContinuousRunMode(false)\n",
    "run()\n",
    "\n",
    "while (isRunning())\n",
    "end\n",
    "\n",
    "flush()\n",
    "\n",
    "selectAuxCommandBank(\"PortA\", \"AuxCmd3\", 0)"
   ]
  },
  {
   "cell_type": "code",
   "execution_count": 4,
   "metadata": {
    "collapsed": false
   },
   "outputs": [
    {
     "data": {
      "text/plain": [
       "true"
      ]
     },
     "execution_count": 4,
     "metadata": {},
     "output_type": "execute_result"
    }
   ],
   "source": [
    "#short sequence\n",
    "setMaxTimeStep(20000) #4140 causes error\n",
    "setContinuousRunMode(false)\n",
    "mytime=zeros(Int32,2)\n",
    "electrode=[i => zeros(Int32,2) for i = 1:(2*32)]\n",
    "saveOut=\"test.jld\"\n",
    "h5open(saveOut, \"w\") do myfile\n",
    "    d=d_create(myfile, \"time\", Int32, ((1,),(-1,)), \"chunk\", (100,))\n",
    "    d[1]=1\n",
    "    for i=1:64\n",
    "        e=d_create(myfile, string(i), Int32, ((1,),(-1,)),\"chunk\", (100,))\n",
    "    end\n",
    "end\n",
    "\n",
    "run()\n",
    "\n",
    "usbDataRead=true"
   ]
  },
  {
   "cell_type": "code",
   "execution_count": 6,
   "metadata": {
    "collapsed": false
   },
   "outputs": [
    {
     "name": "stdout",
     "output_type": "stream",
     "text": [
      "elapsed time: 0.003460368 seconds (2489368 bytes allocated)\n"
     ]
    },
    {
     "data": {
      "text/plain": [
       "true"
      ]
     },
     "execution_count": 6,
     "metadata": {},
     "output_type": "execute_result"
    }
   ],
   "source": [
    "@time usbDataRead=readDataBlocks(1,mytime,electrode)"
   ]
  },
  {
   "cell_type": "code",
   "execution_count": 8,
   "metadata": {
    "collapsed": false,
    "scrolled": true
   },
   "outputs": [
    {
     "name": "stdout",
     "output_type": "stream",
     "text": [
      "elapsed time: 0.001203343 seconds (96 bytes allocated)\n"
     ]
    },
    {
     "data": {
      "text/plain": [
       "0x00000000001ab1c0"
      ]
     },
     "execution_count": 8,
     "metadata": {},
     "output_type": "execute_result"
    }
   ],
   "source": [
    "@time numWordsInFifo() "
   ]
  },
  {
   "cell_type": "code",
   "execution_count": 23,
   "metadata": {
    "collapsed": false,
    "scrolled": true
   },
   "outputs": [],
   "source": [
    "run()\n",
    "\n",
    "while (usbDataRead || isRunning())\n",
    "    #If Fifo contains words, they are read\n",
    "    usbDataRead = readDataBlocks(1,mytime,electrode)\n",
    "    if (length(mytime) >= 3000)\n",
    "        (mytime, electrode) = queueToFile(mytime,electrode,saveOut)\n",
    "    end\n",
    "    \n",
    "end\n",
    "\n",
    "mytime = queueToFile(mytime,electrode,saveOut)\n",
    "\n",
    "flush()"
   ]
  },
  {
   "cell_type": "code",
   "execution_count": 29,
   "metadata": {
    "collapsed": false
   },
   "outputs": [],
   "source": [
    "using PyPlot"
   ]
  },
  {
   "cell_type": "code",
   "execution_count": 31,
   "metadata": {
    "collapsed": false
   },
   "outputs": [
    {
     "name": "stdout",
     "output_type": "stream",
     "text": [
      "Int32[0,37888,21633,13888,37888,21504,4672,55040,5248,5312,37888,22020,37888,22016,37888,54304,5184,1312,21504,5344,5136,54530,5120,38400,5378,5313,5632,38144,5760,5120,38436,21762,5128,5120,5136,5128,5632,5664,37888,21504,5700,37888,21632,4096,5632,5248,5256,5636,5378,54272,28864,5184,5120,5137,37888,5376,38016,5248,5636,38144,21632,4096,5120,5250,21504,5184,1056,38032,4104,5124,37890,5256,5636,5252,37891,22144,37952,5248,5120,5128,5636,5384,17664,5312,5120,5632,5120,5768,38146,22144,5120,5248,37890,21632,5120,38016,7312,13320,5156,5888]\n"
     ]
    }
   ],
   "source": [
    "h5open(saveOut) do hi\n",
    "    e=d_open(hi, \"20\")\n",
    "    println(e[1:100])\n",
    "end"
   ]
  },
  {
   "cell_type": "code",
   "execution_count": null,
   "metadata": {
    "collapsed": true
   },
   "outputs": [],
   "source": []
  }
 ],
 "metadata": {
  "kernelspec": {
   "display_name": "Julia 0.3.2",
   "language": "julia",
   "name": "julia-0.3"
  },
  "language_info": {
   "name": "julia",
   "version": "0.3.2"
  }
 },
 "nbformat": 4,
 "nbformat_minor": 0
}
