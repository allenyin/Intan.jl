{
 "cells": [
  {
   "cell_type": "code",
   "execution_count": 1,
   "metadata": {
    "collapsed": false
   },
   "outputs": [],
   "source": [
    "using rhd2000evalboard, HDF5"
   ]
  },
  {
   "cell_type": "code",
   "execution_count": 2,
   "metadata": {
    "collapsed": false,
    "scrolled": false
   },
   "outputs": [
    {
     "name": "stdout",
     "output_type": "stream",
     "text": [
      "Scanning USB for Opal Kelly devices...\n",
      "Found 1 Opal Kelly device(s)\n",
      "Serial number of device 0 is 141100085D\n",
      "FPGA configuration loaded.\n",
      "Rhythm configuration file successfully loaded. Rhythm version number: 1\n",
      "[1 1 0 0 0 0 0 0 0]\n",
      "2\n",
      "3\n"
     ]
    }
   ],
   "source": [
    "#Opal Kelly XEM6010 board\n",
    "open_board()\n",
    "\n",
    "# Load Rhythm FPGA configuration bitfile (provided by Intan Technologies).\n",
    "uploadFpgaBitfile();\n",
    "\n",
    "#Initialize board\n",
    "initialize_board()\n",
    "\n",
    "#For 64 channel I think you do this twice (not positive but we can test)\n",
    "enableDataStream(1, true)\n",
    "setDataSource(0, 8)\n",
    "setDataSource(1, 9)\n",
    "println(rhd2000evalboard.dataStreamEnabled)\n",
    "println(rhd2000evalboard.numDataStreams)\n",
    "\n",
    "#Select per-channel amplifier sampling rate\n",
    "setSampleRate(20000)\n",
    "\n",
    "#Now that we have set our sampling rate, we can set the MISO sampling delay\n",
    "#which is dependent on the sample rate. We assume a 3-foot cable.\n",
    "setCableLengthFeet(\"PortA\", 6.0)\n",
    "\n",
    "# Let's turn one LED on to indicate that the program is running.\n",
    "ledArray=[1,1,0,0,0,0,0,0]\n",
    "setLedDisplay(ledArray)"
   ]
  },
  {
   "cell_type": "code",
   "execution_count": 3,
   "metadata": {
    "collapsed": false
   },
   "outputs": [
    {
     "data": {
      "text/plain": [
       "true"
      ]
     },
     "execution_count": 3,
     "metadata": {},
     "output_type": "execute_result"
    }
   ],
   "source": [
    "#short sequence\n",
    "setMaxTimeStep(20000) #4140 causes error\n",
    "setContinuousRunMode(false)\n",
    "mytime=zeros(Int32,2)\n",
    "electrode=[i => zeros(Int32,2) for i = 1:(2*32)]\n",
    "saveOut=\"test.jld\"\n",
    "h5open(saveOut, \"w\") do myfile\n",
    "    d=d_create(myfile, \"time\", Int32, ((1,),(-1,)), \"chunk\", (100,))\n",
    "    d[1]=1\n",
    "    for i=1:64\n",
    "        e=d_create(myfile, string(i), Int32, ((1,),(-1,)),\"chunk\", (100,))\n",
    "    end\n",
    "end\n",
    "\n",
    "run()\n",
    "\n",
    "usbDataRead=true"
   ]
  },
  {
   "cell_type": "code",
   "execution_count": 8,
   "metadata": {
    "collapsed": false
   },
   "outputs": [
    {
     "name": "stdout",
     "output_type": "stream",
     "text": [
      "elapsed time: 0.003484645 seconds (2582968 bytes allocated)\n"
     ]
    },
    {
     "data": {
      "text/plain": [
       "true"
      ]
     },
     "execution_count": 8,
     "metadata": {},
     "output_type": "execute_result"
    }
   ],
   "source": [
    "@time usbDataRead=readDataBlocks(1,mytime,electrode)"
   ]
  },
  {
   "cell_type": "code",
   "execution_count": 9,
   "metadata": {
    "collapsed": false,
    "scrolled": true
   },
   "outputs": [
    {
     "name": "stdout",
     "output_type": "stream",
     "text": [
      "elapsed time: 0.001229034 seconds (96 bytes allocated)\n"
     ]
    },
    {
     "data": {
      "text/plain": [
       "0x00000000001adb00"
      ]
     },
     "execution_count": 9,
     "metadata": {},
     "output_type": "execute_result"
    }
   ],
   "source": [
    "@time numWordsInFifo() "
   ]
  },
  {
   "cell_type": "code",
   "execution_count": 4,
   "metadata": {
    "collapsed": false,
    "scrolled": true
   },
   "outputs": [],
   "source": [
    "run()\n",
    "\n",
    "while (usbDataRead || isRunning())\n",
    "    #If Fifo contains words, they are read\n",
    "    usbDataRead = readDataBlocks(1,mytime,electrode)\n",
    "    if (length(mytime) >= 3000)\n",
    "        (mytime, electrode) = queueToFile(mytime,electrode,saveOut)\n",
    "    end\n",
    "    \n",
    "end\n",
    "\n",
    "mytime = queueToFile(mytime,electrode,saveOut)\n",
    "\n",
    "flush()"
   ]
  },
  {
   "cell_type": "code",
   "execution_count": 4,
   "metadata": {
    "collapsed": false
   },
   "outputs": [
    {
     "name": "stderr",
     "output_type": "stream",
     "text": [
      "Warning: redefining constant mylib\n"
     ]
    },
    {
     "name": "stdout",
     "output_type": "stream",
     "text": [
      "Scanning USB for Opal Kelly devices...\n",
      "Found 0 Opal Kelly device(s)\n",
      "Serial number of device 0 is \n",
      "Device could not be opened. Is one connected?\n"
     ]
    },
    {
     "data": {
      "text/plain": [
       "-2"
      ]
     },
     "execution_count": 4,
     "metadata": {},
     "output_type": "execute_result"
    }
   ],
   "source": [
    "const mylib=\"/home/nicolelislab/neural-analysis-toolbox/DataAcq/libokFrontPanel.so\"\n",
    "ccall((:okFrontPanel_Construct, mylib), Ptr{Void}, ())\n",
    "open_board()"
   ]
  },
  {
   "cell_type": "code",
   "execution_count": 7,
   "metadata": {
    "collapsed": false
   },
   "outputs": [
    {
     "name": "stderr",
     "output_type": "stream",
     "text": [
      "INFO: Loading help data...\n"
     ]
    }
   ],
   "source": [
    "using PyPlot"
   ]
  },
  {
   "cell_type": "code",
   "execution_count": 16,
   "metadata": {
    "collapsed": false
   },
   "outputs": [
    {
     "data": {
      "image/png": "[encoded data removed]",
      "text/plain": [
       "Figure(PyObject <matplotlib.figure.Figure object at 0x7f1f8d983f90>)"
      ]
     },
     "metadata": {},
     "output_type": "display_data"
    },
    {
     "data": {
      "text/plain": [
       "1-element Array{Any,1}:\n",
       " PyObject <matplotlib.lines.Line2D object at 0x7f1f8d7dbc10>"
      ]
     },
     "execution_count": 16,
     "metadata": {},
     "output_type": "execute_result"
    }
   ],
   "source": [
    "h5open(saveOut) do hi\n",
    "    e=d_open(hi, \"20\")\n",
    "    plot(e[1:100])\n",
    "end"
   ]
  },
  {
   "cell_type": "code",
   "execution_count": null,
   "metadata": {
    "collapsed": false,
    "scrolled": false
   },
   "outputs": [
    {
     "name": "stderr",
     "output_type": "stream",
     "text": [
      "INFO: Cloning cache of Blosc from git://github.com/stevengj/Blosc.jl.git\n",
      "INFO: Cloning cache of HDF5 from git://github.com/timholy/HDF5.jl.git\n",
      "INFO: Installing Blosc v0.1.2\n",
      "INFO: Installing HDF5 v0.4.9\n",
      "INFO: Building Blosc\n",
      "--2015-05-14 12:05:21--  https://github.com/Blosc/c-blosc/archive/v1.5.0.tar.gz\n",
      "Resolving github.com (github.com)... 192.30.252.130\n",
      "Connecting to github.com (github.com)|192.30.252.130|:443... connected.\n",
      "HTTP request sent, awaiting response... 302 Found\n",
      "Location: https://codeload.github.com/Blosc/c-blosc/tar.gz/v1.5.0 [following]\n",
      "--2015-05-14 12:05:21--  https://codeload.github.com/Blosc/c-blosc/tar.gz/v1.5.0\n",
      "Resolving codeload.github.com (codeload.github.com)... 192.30.252.144\n",
      "Connecting to codeload.github.com (codeload.github.com)|192.30.252.144|:443... connected.\n",
      "HTTP request sent, awaiting response... 200 OK\n",
      "Length: unspecified [application/x-gzip]\n",
      "Saving to: ‘c-blosc-1.5.0.tar.gz’\n",
      "\n",
      "     0K .......... .......... .......... .......... .......... 1006K\n",
      "    50K .......... .......... .......... .......... .......... 1.99M\n",
      "   100K .......... .......... .......... .......... .......... 11.0M\n",
      "   150K ."
     ]
    },
    {
     "name": "stdout",
     "output_type": "stream",
     "text": [
      "Compiling libblosc...\n"
     ]
    },
    {
     "name": "stderr",
     "output_type": "stream",
     "text": [
      "......... .......... .......... .......... .......... 2.25M\n",
      "   200K .......... .......... .......... ...                   11.4M=0.1s\n",
      "\n",
      "2015-05-14 12:05:21 (2.21 MB/s) - ‘c-blosc-1.5.0.tar.gz’ saved [239236]\n",
      "\n"
     ]
    },
    {
     "name": "stdout",
     "output_type": "stream",
     "text": [
      "   CC blosc.c\n",
      "   CC blosclz.c\n",
      "   CC shuffle.c\n",
      "   LINK libblosc\n"
     ]
    },
    {
     "name": "stderr",
     "output_type": "stream",
     "text": [
      "INFO: Building HDF5\n"
     ]
    },
    {
     "name": "stdout",
     "output_type": "stream",
     "text": [
      "Installing dependency hdf5-tools via `sudo apt-get install hdf5-tools`:\n",
      "Reading package lists...\n",
      "Building dependency tree...\n",
      "Reading state information...\n",
      "The following extra packages will be installed:\n",
      "  libhdf5-8\n",
      "The following NEW packages will be installed:\n",
      "  hdf5-tools libhdf5-8\n",
      "0 upgraded, 2 newly installed, 0 to remove and 88 not upgraded.\n",
      "Need to get 1,443 kB of archives.\n",
      "After this operation, 5,656 kB of additional disk space will be used.\n",
      "Do you want to continue? [Y/n] "
     ]
    }
   ],
   "source": [
    "Pkg.add(\"HDF5\")"
   ]
  },
  {
   "cell_type": "code",
   "execution_count": 24,
   "metadata": {
    "collapsed": false
   },
   "outputs": [
    {
     "data": {
      "text/plain": [
       "2"
      ]
     },
     "execution_count": 24,
     "metadata": {},
     "output_type": "execute_result"
    }
   ],
   "source": []
  },
  {
   "cell_type": "code",
   "execution_count": null,
   "metadata": {
    "collapsed": true
   },
   "outputs": [],
   "source": []
  }
 ],
 "metadata": {
  "kernelspec": {
   "display_name": "Julia 0.3.2",
   "language": "julia",
   "name": "julia-0.3"
  },
  "language_info": {
   "name": "julia",
   "version": "0.3.2"
  }
 },
 "nbformat": 4,
 "nbformat_minor": 0
}
