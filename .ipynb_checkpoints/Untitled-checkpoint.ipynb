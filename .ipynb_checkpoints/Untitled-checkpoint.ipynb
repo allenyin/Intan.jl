{
 "cells": [
  {
   "cell_type": "code",
   "execution_count": 2,
   "metadata": {
    "collapsed": false
   },
   "outputs": [
    {
     "data": {
      "text/plain": [
       "\"/home/nicolelislab/toolbox/DataAcq/libokFrontPanel.so\""
      ]
     },
     "execution_count": 2,
     "metadata": {},
     "output_type": "execute_result"
    }
   ],
   "source": [
    "mylib=\"/home/nicolelislab/toolbox/DataAcq/libokFrontPanel.so\""
   ]
  },
  {
   "cell_type": "code",
   "execution_count": 2,
   "metadata": {
    "collapsed": false
   },
   "outputs": [
    {
     "ename": "LoadError",
     "evalue": "error compiling anonymous: could not load module ~/toolbox/DataAcq/libokFrontPanel.so: ~/toolbox/DataAcq/libokFrontPanel.so: cannot open shared object file: No such file or directory\nwhile loading In[2], in expression starting on line 2",
     "output_type": "error",
     "traceback": [
      "error compiling anonymous: could not load module ~/toolbox/DataAcq/libokFrontPanel.so: ~/toolbox/DataAcq/libokFrontPanel.so: cannot open shared object file: No such file or directory\nwhile loading In[2], in expression starting on line 2",
      ""
     ]
    }
   ],
   "source": [
    "#make device\n",
    "x=ccall((:okFrontPanel_Construct, \"/home/nicolelislab/toolbox/DataAcq/libokFrontPanel.so\"), Ptr{Void}, ())"
   ]
  },
  {
   "cell_type": "code",
   "execution_count": 4,
   "metadata": {
    "collapsed": false
   },
   "outputs": [
    {
     "name": "stdout",
     "output_type": "stream",
     "text": [
      "Found 0 Opal Kelly device(s)\n"
     ]
    }
   ],
   "source": [
    "nDevices=ccall((:okFrontPanel_GetDeviceCount,\"/home/nicolelislab/toolbox/DataAcq/libokFrontPanel.so\"), Int, (Ptr{Void},), x)\n",
    "println(\"Found \" ,nDevices, \" Opal Kelly device(s)\")"
   ]
  },
  {
   "cell_type": "code",
   "execution_count": 6,
   "metadata": {
    "collapsed": false
   },
   "outputs": [],
   "source": [
    "#Get Serial Number (I'm assuing there is only one device)\n",
    "serialnumber=ccall((:okFrontPanel_GetDeviceListSerial,\"/home/nicolelislab/toolbox/DataAcq/libokFrontPanel.so\"), Void, (Ptr{Void}, Int, String), x, 0, \"\")"
   ]
  },
  {
   "cell_type": "code",
   "execution_count": 7,
   "metadata": {
    "collapsed": false,
    "scrolled": true
   },
   "outputs": [],
   "source": [
    "#Open by serial\n"
   ]
  },
  {
   "cell_type": "code",
   "execution_count": 1,
   "metadata": {
    "collapsed": true
   },
   "outputs": [],
   "source": [
    "#configure on-board PLL"
   ]
  },
  {
   "cell_type": "code",
   "execution_count": null,
   "metadata": {
    "collapsed": true
   },
   "outputs": [],
   "source": []
  }
 ],
 "metadata": {
  "kernelspec": {
   "display_name": "Julia 0.3.2",
   "language": "julia",
   "name": "julia 0.3"
  },
  "language_info": {
   "name": "julia",
   "version": "0.3.2"
  }
 },
 "nbformat": 4,
 "nbformat_minor": 0
}
