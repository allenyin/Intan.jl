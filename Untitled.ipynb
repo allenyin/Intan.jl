{
 "cells": [
  {
   "cell_type": "code",
   "execution_count": null,
   "metadata": {
    "collapsed": true
   },
   "outputs": [],
   "source": [
    "const mylib=\"/home/paul/neural-analysis-toolbox/DataAcq/libokFrontPanel.so\"\n",
    "#const mylib=\"/home/nicolelislab/toolbox/DataAcq/libokFrontPanel.so\"\n",
    "const myfile=\"/home/paul/neural-analysis-toolbox/DataAcq/API/main.bit\""
   ]
  },
  {
   "cell_type": "code",
   "execution_count": 17,
   "metadata": {
    "collapsed": false
   },
   "outputs": [
    {
     "data": {
      "text/plain": [
       "0x00"
      ]
     },
     "execution_count": 17,
     "metadata": {},
     "output_type": "execute_result"
    }
   ],
   "source": [
    "WireInResetRun=0x00\n",
    "WireInDataFreqPll = 0x03\n",
    "TrigInDcmProg = 0x40"
   ]
  },
  {
   "cell_type": "code",
   "execution_count": 2,
   "metadata": {
    "collapsed": false
   },
   "outputs": [
    {
     "data": {
      "text/plain": [
       "Ptr{Void} @0x000000000793cc70"
      ]
     },
     "execution_count": 2,
     "metadata": {},
     "output_type": "execute_result"
    }
   ],
   "source": [
    "#make device\n",
    "x=ccall((:okFrontPanel_Construct, mylib), Ptr{Void}, ())"
   ]
  },
  {
   "cell_type": "code",
   "execution_count": 3,
   "metadata": {
    "collapsed": false
   },
   "outputs": [
    {
     "name": "stdout",
     "output_type": "stream",
     "text": [
      "Found 0 Opal Kelly device(s)\n"
     ]
    }
   ],
   "source": [
    "nDevices=ccall((:okFrontPanel_GetDeviceCount,mylib), Int, (Ptr{Void},), x)\n",
    "println(\"Found \" ,nDevices, \" Opal Kelly device(s)\")"
   ]
  },
  {
   "cell_type": "code",
   "execution_count": 7,
   "metadata": {
    "collapsed": false
   },
   "outputs": [],
   "source": [
    "#Get Serial Number (I'm assuing there is only one device)\n",
    "serialnumber=ccall((:okFrontPanel_GetDeviceListSerial,mylib), Void, (Ptr{Void}, Int, String), x, 0,\"\")"
   ]
  },
  {
   "cell_type": "code",
   "execution_count": 5,
   "metadata": {
    "collapsed": false,
    "scrolled": true
   },
   "outputs": [
    {
     "data": {
      "text/plain": [
       "-1"
      ]
     },
     "execution_count": 5,
     "metadata": {},
     "output_type": "execute_result"
    }
   ],
   "source": [
    "#Open by serial \n",
    "#type ok_ErrorCode -> enum with each number being an error code\n",
    "ccall((:okFrontPanel_OpenBySerial, mylib), Cint, (Ptr{Void},String),x,serialnumber)"
   ]
  },
  {
   "cell_type": "code",
   "execution_count": 10,
   "metadata": {
    "collapsed": false
   },
   "outputs": [
    {
     "data": {
      "text/plain": [
       "-8"
      ]
     },
     "execution_count": 10,
     "metadata": {},
     "output_type": "execute_result"
    }
   ],
   "source": [
    "#configure on-board PLL\n",
    "ccall((:okFrontPanel_LoadDefaultPLLConfiguration,mylib), Cint, (Ptr{Void},),x)"
   ]
  },
  {
   "cell_type": "code",
   "execution_count": 11,
   "metadata": {
    "collapsed": false
   },
   "outputs": [
    {
     "ename": "LoadError",
     "evalue": "myfile not defined\nwhile loading In[11], in expression starting on line 2",
     "output_type": "error",
     "traceback": [
      "myfile not defined\nwhile loading In[11], in expression starting on line 2",
      "",
      " in anonymous at ./no file"
     ]
    }
   ],
   "source": [
    "#upload configuration file\n",
    "ccall((:okFrontPanel_ConfigureFPGA,mylib),Cint,(Ptr{Void},String),x,myfile)"
   ]
  },
  {
   "cell_type": "code",
   "execution_count": 12,
   "metadata": {
    "collapsed": false
   },
   "outputs": [
    {
     "data": {
      "text/plain": [
       "false"
      ]
     },
     "execution_count": 12,
     "metadata": {},
     "output_type": "execute_result"
    }
   ],
   "source": [
    "#Check if FrontPanel Support is enabled\n",
    "\n",
    "ccall((:okFrontPanel_IsFrontPanelEnabled,mylib),Bool,(Ptr{Void},),x)\n",
    "\n",
    "#Update Wireouts\n",
    "ccall((:okFrontPanel_UpdateWireOuts,mylib),Void,(Ptr{Void},),x)\n",
    "#Get BoardID\n",
    "\n",
    "#Get Bord Version"
   ]
  },
  {
   "cell_type": "code",
   "execution_count": 18,
   "metadata": {
    "collapsed": false
   },
   "outputs": [
    {
     "data": {
      "text/plain": [
       "0"
      ]
     },
     "execution_count": 18,
     "metadata": {},
     "output_type": "execute_result"
    }
   ],
   "source": [
    "#Initialize Board\n",
    "\n",
    "#Reset Board\n",
    "ccall((:okFrontPanel_SetWireInValue,mylib),Cint,(Ptr{Void},Int,Culong,Culong),x,WireInResetRun,0x01,0x01)\n",
    "ccall((:okFrontPanel_UpdateWireIns,mylib),Cint,(Ptr{Void},),x)\n",
    "ccall((:okFrontPanel_SetWireInValue,mylib),Cint,(Ptr{Void},Int,Culong,Culong),x,WireInResetRun,0x00,0x01)\n",
    "ccall((:okFrontPanel_UpdateWireIns,mylib),Cint,(Ptr{Void},),x)\n",
    "\n",
    "#SetSampleRate\n",
    "#need dcmprogdone function to make sure programing is done\n",
    "\n",
    "M=42 #need to be unsigned long\n",
    "D=25\n",
    "ccall((:okFrontPanel_SetWireInValue,mylib),Cint,(Ptr{Void},Int,Culong,Culong),x,WireInResetRun,0x01,0x01)\n",
    "ccall((:okFrontPanel_UpdateWireIns,mylib),Cint,(Ptr{Void},),x)\n",
    "ccall((:okFrontPanel_ActivateTriggerIn,mylib),Cint,(Int,Int),TrigInDcmProg,0)\n",
    "\n",
    "#isdataclocklocked function\n",
    "\n",
    "\n",
    "#Select aux command slot function"
   ]
  },
  {
   "cell_type": "code",
   "execution_count": 15,
   "metadata": {
    "collapsed": false
   },
   "outputs": [
    {
     "ename": "LoadError",
     "evalue": "type cannot be constructed\nwhile loading In[15], in expression starting on line 1",
     "output_type": "error",
     "traceback": [
      "type cannot be constructed\nwhile loading In[15], in expression starting on line 1",
      ""
     ]
    }
   ],
   "source": []
  },
  {
   "cell_type": "code",
   "execution_count": null,
   "metadata": {
    "collapsed": true
   },
   "outputs": [],
   "source": []
  }
 ],
 "metadata": {
  "kernelspec": {
   "display_name": "Julia 0.3.2",
   "language": "julia",
   "name": "julia 0.3"
  },
  "language_info": {
   "name": "julia",
   "version": "0.3.2"
  }
 },
 "nbformat": 4,
 "nbformat_minor": 0
}
